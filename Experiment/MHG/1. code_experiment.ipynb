{
 "cells": [
  {
   "cell_type": "code",
   "execution_count": 1,
   "metadata": {},
   "outputs": [],
   "source": [
    "import os\n",
    "### QAOA_realestate가 있는 폴더로 지정\n",
    "dir_path = \"/Users/minhyeong-gyu/Documents/GitHub/QAOA_realestate\"\n",
    "os.chdir(dir_path)\n",
    "import sys\n",
    "module_path = dir_path + \"/Module\"\n",
    "if module_path not in sys.path:\n",
    "    sys.path.append(module_path)\n",
    "\n",
    "from optimizer import optimizer as opt\n",
    "from optimizer import basefunctions as bf\n",
    "\n",
    "import numpy as np\n",
    "from dwave.system import LeapHybridCQMSampler\n",
    "%matplotlib inline"
   ]
  },
  {
   "cell_type": "markdown",
   "metadata": {},
   "source": [
    "### DWAVE 디바이스 설정"
   ]
  },
  {
   "cell_type": "code",
   "execution_count": 2,
   "metadata": {},
   "outputs": [],
   "source": [
    "my_api_token = \"DEV-8be99a69b1c9b92319d76a12d5c8b4fde79963b4\"\n",
    "sampler = LeapHybridCQMSampler(token = my_api_token)"
   ]
  },
  {
   "cell_type": "markdown",
   "metadata": {},
   "source": [
    "### Q, beta 설정"
   ]
  },
  {
   "cell_type": "code",
   "execution_count": 3,
   "metadata": {},
   "outputs": [],
   "source": [
    "Q = np.array([[1,2,3],[4,5,6],[7,8,9]])\n",
    "beta = np.array([-3,-2,-1])"
   ]
  },
  {
   "cell_type": "markdown",
   "metadata": {},
   "source": [
    "#### 옵티마이저 하이퍼 파라미터 설정"
   ]
  },
  {
   "cell_type": "code",
   "execution_count": 7,
   "metadata": {},
   "outputs": [],
   "source": [
    "opt_dwave = opt.DWAVE_optimizer(sampler)\n",
    "opt_sa = opt.SimulatedAnnealing()"
   ]
  },
  {
   "cell_type": "markdown",
   "metadata": {},
   "source": [
    "1. optimizer.DWAVE_optimizer(sampler)\n",
    "- sampler : 사용할 DWAVE 디바이스 설정\n",
    "\n",
    "2. optimizer.SimulatedAnnealing(schedule_list = [100, 100, 100, 200, 200, 200, 200, 300, 300, 300, 300, 300, 400, 400, 400, 400, 400, 400],  \n",
    "$\\qquad \\qquad \\qquad \\qquad \\qquad $ k_flip=2,  \n",
    "$\\qquad \\qquad \\qquad \\qquad \\qquad $ alpha=0.9,  \n",
    "$\\qquad \\qquad \\qquad \\qquad \\qquad $ tau=1,  \n",
    "$\\qquad \\qquad \\qquad \\qquad \\qquad $ )  \n",
    "- schedule_list : 사용할 SA의 이터레이션 스케줄\n",
    "- k_flip : 프로포절 시 사용할 도약할 개수 ; 낮을 수록 파라미터를 좁게 찾음\n",
    "- alpha : 각 스테이지 별로할 아이싱 정도 ; 낮을 수록 파라미터를 좁게 찾음\n",
    "- tau : 최초의 아이싱 정도 ; 낮을 수록 파라미터를 좁게 찾음"
   ]
  },
  {
   "cell_type": "markdown",
   "metadata": {},
   "source": [
    "### 옵티마이저 사용"
   ]
  },
  {
   "cell_type": "code",
   "execution_count": 8,
   "metadata": {},
   "outputs": [
    {
     "data": {
      "text/plain": [
       "array([1., 0., 0.])"
      ]
     },
     "execution_count": 8,
     "metadata": {},
     "output_type": "execute_result"
    }
   ],
   "source": [
    "opt_dwave.optimize(Q,beta)\n",
    "opt_sa.optimize(Q,beta)"
   ]
  },
  {
   "cell_type": "markdown",
   "metadata": {},
   "source": [
    "3. opt.DWAVE_optimizer.optimize(Q,beta,lamda,k,A,b)  \n",
    "4. opt.SimulatedAnnealing.optimize(Q,beta,lamda,k,A,b)  \n",
    "위는 다음과 같은 최적화 문제를 푸는 옵티마이저  \n",
    "$$\\begin{align*}\n",
    "\\min \\ & \\lambda x^t Q x + (1-\\lambda )\\beta^t x \\\\ \n",
    "s.t. \\ & Ax < b \\\\ \n",
    "& 1^t x = k\n",
    "\\end{align*}$$\n",
    "\n",
    "5. 옵티마이저 진행후 아래와 같은 출력값이 저장됨  \n",
    "opt.DWAVE_optimizer.result  \n",
    "opt.SimulatedAnnealing.result  \n",
    "- 최적화 결과가 바이너리 인덱스로 출력  \n",
    "opt.DWAVE_optimizer.sampleset  \n",
    "- DWAVE의 결과 보고서를 출력  \n",
    "opt.SimulatedAnnealing.theta_list  \n",
    "- 어닐링 스케줄 동안의 찾은 최적조합들의 기록  \n",
    "\n"
   ]
  },
  {
   "cell_type": "markdown",
   "metadata": {},
   "source": [
    "### 옵티마이저 결과 출력"
   ]
  },
  {
   "cell_type": "code",
   "execution_count": 9,
   "metadata": {},
   "outputs": [
    {
     "name": "stdout",
     "output_type": "stream",
     "text": [
      "[1.0, 0.0, 0.0] [1. 0. 0.]\n"
     ]
    }
   ],
   "source": [
    "print(opt_dwave.result,opt_sa.result)"
   ]
  },
  {
   "cell_type": "markdown",
   "metadata": {},
   "source": [
    "### 옵티마이저 결과값 목적함수 출력"
   ]
  },
  {
   "cell_type": "code",
   "execution_count": 10,
   "metadata": {},
   "outputs": [
    {
     "data": {
      "text/plain": [
       "-1.0"
      ]
     },
     "execution_count": 10,
     "metadata": {},
     "output_type": "execute_result"
    }
   ],
   "source": [
    "bf.get_QB(opt_dwave.result,Q,beta,0.5)"
   ]
  },
  {
   "cell_type": "code",
   "execution_count": 11,
   "metadata": {},
   "outputs": [
    {
     "data": {
      "text/plain": [
       "-1.0"
      ]
     },
     "execution_count": 11,
     "metadata": {},
     "output_type": "execute_result"
    }
   ],
   "source": [
    "bf.get_QB(opt_sa.result,Q,beta,0.5)"
   ]
  },
  {
   "cell_type": "code",
   "execution_count": null,
   "metadata": {},
   "outputs": [],
   "source": []
  }
 ],
 "metadata": {
  "kernelspec": {
   "display_name": "Python 3.9.13 ('base')",
   "language": "python",
   "name": "python3"
  },
  "language_info": {
   "codemirror_mode": {
    "name": "ipython",
    "version": 3
   },
   "file_extension": ".py",
   "mimetype": "text/x-python",
   "name": "python",
   "nbconvert_exporter": "python",
   "pygments_lexer": "ipython3",
   "version": "3.9.13"
  },
  "orig_nbformat": 4,
  "vscode": {
   "interpreter": {
    "hash": "84fb82bab20c569585c4af9397c7309d3c8bcf8e92190772bb316fae4802aa46"
   }
  }
 },
 "nbformat": 4,
 "nbformat_minor": 2
}
