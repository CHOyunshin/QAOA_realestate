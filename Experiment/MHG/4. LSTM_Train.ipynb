{
 "cells": [
  {
   "cell_type": "code",
   "execution_count": 1,
   "metadata": {},
   "outputs": [],
   "source": [
    "import os\n",
    "### QAOA_realestate가 있는 폴더로 지정\n",
    "dir_path = \"/Users/minhyeong-gyu/Documents/GitHub/QAOA_realestate\"\n",
    "os.chdir(dir_path)\n",
    "import sys\n",
    "module_path = dir_path + \"/Module\"\n",
    "if module_path not in sys.path:\n",
    "    sys.path.append(module_path)\n",
    "\n",
    "from optimizer import optimizer as opt\n",
    "from optimizer import basefunctions as bf\n",
    "\n",
    "import numpy as np\n",
    "import pandas as pd\n",
    "import matplotlib.pyplot as plt \n",
    "from matplotlib import font_manager, rc\n",
    "# 윈도우 한글 폰트\n",
    "# font_path = \"C:/Windows/Fonts/NGULIM.TTF\"\n",
    "# font = font_manager.FontProperties(fname=font_path).get_name()\n",
    "# rc('font', family=font)\n",
    "\n",
    "# Mac 한글 폰트\n",
    "rc('font', family='AppleGothic')\n",
    "plt.rcParams['axes.unicode_minus'] = False\n",
    "\n",
    "import seaborn as sns\n",
    "from dwave.system import LeapHybridCQMSampler\n",
    "%matplotlib inline"
   ]
  },
  {
   "cell_type": "code",
   "execution_count": 2,
   "metadata": {},
   "outputs": [],
   "source": [
    "import numpy as np\n",
    "import torch\n",
    "import torch.nn as nn\n",
    "import torch.optim as optim\n",
    "from torch.autograd import Variable \n",
    "from sklearn.preprocessing import MinMaxScaler\n",
    "\n",
    "class LSTM1(nn.Module):\n",
    "  def __init__(self, num_classes, input_size, hidden_size, num_layers, seq_length):\n",
    "    super(LSTM1, self).__init__()\n",
    "    self.num_classes = num_classes #number of classes\n",
    "    self.num_layers = num_layers #number of layers\n",
    "    self.input_size = input_size #input size\n",
    "    self.hidden_size = hidden_size #hidden state\n",
    "    self.seq_length = seq_length #sequence length\n",
    " \n",
    "    self.lstm = nn.LSTM(input_size=input_size, hidden_size=hidden_size,\n",
    "                      num_layers=num_layers, batch_first=True) #lstm\n",
    "    self.fc_1 =  nn.Linear(hidden_size, 128) #fully connected 1\n",
    "    self.fc = nn.Linear(128, num_classes) #fully connected last layer\n",
    "\n",
    "    self.relu = nn.ReLU() \n",
    "\n",
    "  def forward(self,x):\n",
    "    h_0 = Variable(torch.zeros(self.num_layers, x.size(0), self.hidden_size)).to(device) #hidden state\n",
    "    c_0 = Variable(torch.zeros(self.num_layers, x.size(0), self.hidden_size)).to(device) #internal state   \n",
    "    # Propagate input through LSTM\n",
    "\n",
    "    output, (hn, cn) = self.lstm(x, (h_0, c_0)) #lstm with input, hidden, and internal state\n",
    "   \n",
    "    hn = hn.view(-1, self.hidden_size) #reshaping the data for Dense layer next\n",
    "    out = self.relu(hn)\n",
    "    out = self.fc_1(out) #first Dense\n",
    "    out = self.relu(out) #relu\n",
    "    out = self.fc(out) #Final Output\n",
    "   \n",
    "    return out "
   ]
  },
  {
   "cell_type": "code",
   "execution_count": 3,
   "metadata": {},
   "outputs": [],
   "source": [
    "def transform_window(x,window):\n",
    "    x = np.asarray(x)\n",
    "    window_x = []\n",
    "    for i in range(len(x)-window):\n",
    "        window_x += [np.exp(sum([np.log(1+x[i+j]) for j in range(window)]))]\n",
    "    return window_x\n",
    "\n",
    "def MSE(y_true,y_pred):\n",
    "    return np.linalg.norm(y_true-y_pred)**2\n",
    "\n",
    "def MAE(y_true,y_pred):\n",
    "    return np.linalg.norm(y_true-y_pred,1)\n",
    "\n",
    "def R_square(y_true,y_pred):\n",
    "    return 1-np.linalg.norm(y_true-y_pred)**2/np.linalg.norm(y_true-np.mean(y_true))**2\n",
    "\n",
    "def k_lookback(y, look_back_range=5,look_back_end=0):\n",
    "    n = len(y)\n",
    "    y = np.asarray(y)\n",
    "    y_lb = pd.DataFrame()\n",
    "    for i in range(look_back_range):\n",
    "        y_lb[i] = np.asarray(y)[look_back_range-i:n-look_back_end-i]\n",
    "    return y_lb.values"
   ]
  },
  {
   "cell_type": "code",
   "execution_count": 4,
   "metadata": {},
   "outputs": [],
   "source": [
    "X1 = pd.read_csv(\"data/Preprocessed_Data/X1.csv\",index_col=\"Unnamed: 0\")\n",
    "X2 = pd.read_csv(\"data/Preprocessed_Data/X2.csv\",index_col=\"Unnamed: 0\")\n",
    "X3 = pd.read_csv(\"data/Preprocessed_Data/X3.csv\",index_col=\"Unnamed: 0\")\n",
    "X4 = pd.read_csv(\"data/Preprocessed_Data/X4.csv\",index_col=\"Unnamed: 0\")\n",
    "X5 = pd.read_csv(\"data/Preprocessed_Data/X5.csv\",index_col=\"Unnamed: 0\")\n",
    "\n",
    "\n",
    "y = pd.read_csv(\"data/Preprocessed_Data/Y.csv\")"
   ]
  },
  {
   "cell_type": "code",
   "execution_count": 24,
   "metadata": {},
   "outputs": [],
   "source": [
    "num_epochs = 3000 #1000 epochs\n",
    "learning_rate = 0.001 #0.001 lr\n",
    "\n",
    "look_back_end = 6\n",
    "look_back = 10\n",
    "input_size = look_back #number of features\n",
    "hidden_size = 60 #number of features in hidden state\n",
    "num_layers = 1 #number of stacked lstm layers\n",
    "\n",
    "num_classes = 1 #number of output classes \n",
    "device = torch.device(\"cpu\")\n",
    "\n",
    "window = 10\n",
    "ratio = 0.85"
   ]
  },
  {
   "cell_type": "code",
   "execution_count": 67,
   "metadata": {},
   "outputs": [
    {
     "data": {
      "text/plain": [
       "torch.Size([87, 113])"
      ]
     },
     "execution_count": 67,
     "metadata": {},
     "output_type": "execute_result"
    }
   ],
   "source": [
    "y_train_tensors.shape"
   ]
  },
  {
   "cell_type": "code",
   "execution_count": 88,
   "metadata": {},
   "outputs": [
    {
     "name": "stdout",
     "output_type": "stream",
     "text": [
      "Succeed train5numbers of region\n",
      "Succeed train10numbers of region\n",
      "Succeed train15numbers of region\n",
      "Succeed train20numbers of region\n",
      "Succeed train25numbers of region\n",
      "Succeed train30numbers of region\n",
      "Succeed train35numbers of region\n",
      "Succeed train40numbers of region\n",
      "Succeed train45numbers of region\n",
      "Succeed train50numbers of region\n",
      "Succeed train55numbers of region\n",
      "Succeed train60numbers of region\n",
      "Succeed train65numbers of region\n",
      "Succeed train70numbers of region\n",
      "Succeed train75numbers of region\n",
      "Succeed train80numbers of region\n",
      "Succeed train85numbers of region\n",
      "Succeed train90numbers of region\n",
      "Succeed train95numbers of region\n",
      "Succeed train100numbers of region\n",
      "Succeed train105numbers of region\n",
      "Succeed train110numbers of region\n"
     ]
    }
   ],
   "source": [
    "k=0\n",
    "MAE_list =[]\n",
    "test_predict_list = []\n",
    "test_true_list =[]\n",
    "y_cumul = pd.DataFrame([[np.exp(sum(np.log(1+y.iloc[:i,dong]))) for dong in range(1,y.shape[1])] for i in range(len(y))])\n",
    "y_cumul.columns = y.iloc[:,1:].columns\n",
    "X1_cumulative = [np.exp(sum(np.log(1+X1.iloc[:i,1]))) for i in range(len(X1))]\n",
    "\n",
    "X1_var = k_lookback(X1_cumulative ,look_back_range= look_back,look_back_end = 0)[look_back_end:]\n",
    "X2_var = k_lookback(X2.iloc[:,1],look_back_range=look_back,look_back_end = 0)[look_back_end:]\n",
    "X5_var = k_lookback(X5.iloc[:,1],look_back_range=look_back,look_back_end = 0)[look_back_end:]\n",
    "\n",
    "for dong in y.columns[1:]:\n",
    "  y_var = k_lookback(y_cumul.loc[:,dong],look_back_range=look_back,look_back_end = look_back_end)\n",
    "  X3_var = k_lookback(X3.loc[:,dong],look_back_range=look_back,look_back_end = 0)[look_back_end:]\n",
    "  X4_var = k_lookback(X4.loc[:,dong],look_back_range=look_back,look_back_end = 0)[look_back_end:]\n",
    "\n",
    "  X_df = np.array([[i1,i2,i3,i4,i5,i6] for i1,i2,i3,i4,i5,i6 in zip(y_var,X1_var,X2_var,X3_var,X4_var,X5_var)])\n",
    "  train_split = int(ratio*len(X_df))\n",
    "\n",
    "  X_train = X_df[:train_split,:]\n",
    "  X_test = X_df[train_split:,:]\n",
    "  y_df = np.array(y_cumul.loc[:,dong])[look_back+look_back_end:]\n",
    "  y_train = y_df[:train_split]\n",
    "  y_test = y_df[train_split:]\n",
    "\n",
    "  X_train_tensors_final = Variable(torch.Tensor(X_train))\n",
    "  X_test_tensors_final = Variable(torch.Tensor(X_test))\n",
    "\n",
    "  y_train_tensors = Variable(torch.Tensor(y_train))\n",
    "  y_test_tensors = Variable(torch.Tensor(y_test))\n",
    "\n",
    "  lstm1 = LSTM1(num_classes, input_size, hidden_size, num_layers, X_train_tensors_final.shape[1]).to(device)\n",
    "  loss_function = torch.nn.L1Loss()    # mean-squared error for regression\n",
    "  optimizer = torch.optim.Adam(lstm1.parameters(), lr=learning_rate)  # adam optimizer\n",
    "\n",
    "  for epoch in range(num_epochs):\n",
    "    outputs = lstm1.forward(X_train_tensors_final.to(device)) #forward pass\n",
    "    optimizer.zero_grad() #caluclate the gradient, manually setting to 0\n",
    "    # obtain the loss function\n",
    "    loss = loss_function(outputs.squeeze(), y_train_tensors.to(device))\n",
    "    loss.backward() #calculates the loss of the loss function\n",
    "    optimizer.step() #improve from loss, i.e backprop\n",
    "  torch.save(lstm1.state_dict(),\"./data/model_parameters/lstm_parameters_\"+dong)\n",
    "  train_predict = lstm1(X_train_tensors_final.to(device)).detach().numpy()#forward pass\n",
    "  test_predict = lstm1(X_test_tensors_final.to(device)).detach().numpy()#forward pass\n",
    "  test_predict_list += [test_predict.reshape(-1).tolist()]\n",
    "  test_true_list += [y_test_tensors.numpy().tolist()]\n",
    "  MAE_list += [MAE(test_predict.reshape(-1),y_test_tensors.numpy())]\n",
    "  k = k+1\n",
    "  if k%5 == 0 : print(\"Succeed train\"+ str(k) + \"numbers of region\")"
   ]
  },
  {
   "cell_type": "code",
   "execution_count": 94,
   "metadata": {},
   "outputs": [],
   "source": [
    "test_length = len(y_test)"
   ]
  },
  {
   "cell_type": "code",
   "execution_count": 95,
   "metadata": {},
   "outputs": [],
   "source": [
    "ratio_list = [np.mean(1+y.iloc[:train_split,dong])for dong in range(1,y.shape[1])]\n",
    "y_criterion = [np.exp(sum(np.log(1+y.iloc[:train_split,dong]))) for dong in range(1,y.shape[1])]\n",
    "test_mean_list = [[y_criterion[j]*ratio_list[j]**i for i in range(test_length)] for j in range(y.shape[1]-1)]"
   ]
  },
  {
   "cell_type": "code",
   "execution_count": 108,
   "metadata": {},
   "outputs": [],
   "source": [
    "MAE_mean = np.apply_along_axis(sum,0,np.abs(y_cumul.iloc[103:].values-pd.DataFrame(test_mean_list ).T.values))"
   ]
  },
  {
   "cell_type": "code",
   "execution_count": 212,
   "metadata": {},
   "outputs": [],
   "source": [
    "pd.DataFrame(test_predict_list).T.to_csv(\"./Experiment/MHG/full_predict_result.csv\")"
   ]
  },
  {
   "cell_type": "code",
   "execution_count": 123,
   "metadata": {},
   "outputs": [],
   "source": [
    "X1_criterion = X1_cumulative[-test_length]"
   ]
  },
  {
   "cell_type": "code",
   "execution_count": 145,
   "metadata": {},
   "outputs": [
    {
     "data": {
      "text/plain": [
       "16"
      ]
     },
     "execution_count": 145,
     "metadata": {},
     "output_type": "execute_result"
    }
   ],
   "source": [
    "test_length"
   ]
  },
  {
   "cell_type": "code",
   "execution_count": 179,
   "metadata": {},
   "outputs": [],
   "source": [
    "lower_case = 0.005\n",
    "mean_case = 0.01\n",
    "upper_case = 0.02\n",
    "n = len(X1_cumulative)\n",
    "X1_criterion = X1_cumulative[train_split-1]\n",
    "X1_test_lower = [X1_criterion*(1+lower_case)**i for i in range(n-train_split)]\n",
    "X1_test_mean = [X1_criterion*(1+mean_case)**i for i in range(n-train_split)]\n",
    "X1_test_real = X1_cumulative[train_split:]\n",
    "X1_test_upper = [X1_criterion*(1+upper_case)**i for i in range(n-train_split)]\n"
   ]
  },
  {
   "cell_type": "code",
   "execution_count": 180,
   "metadata": {},
   "outputs": [
    {
     "data": {
      "image/png": "[encoded data removed]",
      "text/plain": [
       "<Figure size 640x480 with 1 Axes>"
      ]
     },
     "metadata": {},
     "output_type": "display_data"
    }
   ],
   "source": [
    "plt.plot(X1_test_lower,label=\"Lower\")\n",
    "plt.plot(X1_test_mean,label=\"Mean\")\n",
    "plt.plot(X1_test_real,label=\"Real\")\n",
    "plt.plot(X1_test_upper,label=\"Upper\")\n",
    "plt.legend()\n",
    "plt.show()"
   ]
  },
  {
   "cell_type": "code",
   "execution_count": 182,
   "metadata": {},
   "outputs": [],
   "source": [
    "X1_lower = X1_cumulative[:train_split]+X1_test_lower\n",
    "X1_mean = X1_cumulative[:train_split]+X1_test_mean\n",
    "X1_upper = X1_cumulative[:train_split]+X1_test_upper"
   ]
  },
  {
   "cell_type": "code",
   "execution_count": 214,
   "metadata": {},
   "outputs": [],
   "source": [
    "X1_target = X1_cumulative\n",
    "\n",
    "test_predict_list = []\n",
    "X1_var = k_lookback(X1_target,look_back_range= look_back,look_back_end = 0)[look_back_end:]\n",
    "X2_var = k_lookback(X2.iloc[:,1],look_back_range=look_back,look_back_end = 0)[look_back_end:]\n",
    "X5_var = k_lookback(X5.iloc[:,1],look_back_range=look_back,look_back_end = 0)[look_back_end:]\n",
    "\n",
    "for dong in y.columns[1:]:\n",
    "  y_var = k_lookback(y_cumul.loc[:,dong],look_back_range=look_back,look_back_end = look_back_end)\n",
    "  X3_var = k_lookback(X3.loc[:,dong],look_back_range=look_back,look_back_end = 0)[look_back_end:]\n",
    "  X4_var = k_lookback(X4.loc[:,dong],look_back_range=look_back,look_back_end = 0)[look_back_end:]\n",
    "\n",
    "  X_df = np.array([[i1,i2,i3,i4,i5,i6] for i1,i2,i3,i4,i5,i6 in zip(y_var,X1_var,X2_var,X3_var,X4_var,X5_var)])\n",
    "  train_split = int(ratio*len(X_df))\n",
    "\n",
    "  X_train = X_df[:train_split,:]\n",
    "  X_test = X_df[train_split:,:]\n",
    "  y_df = np.array(y_cumul.loc[:,dong])[look_back+look_back_end:]\n",
    "  y_train = y_df[:train_split]\n",
    "  y_test = y_df[train_split:]\n",
    "\n",
    "  X_train_tensors_final = Variable(torch.Tensor(X_train))\n",
    "  X_test_tensors_final = Variable(torch.Tensor(X_test))\n",
    "\n",
    "  y_train_tensors = Variable(torch.Tensor(y_train))\n",
    "  y_test_tensors = Variable(torch.Tensor(y_test))\n",
    "\n",
    "  lstm1.load_state_dict(torch.load(\"./data/model_parameters/lstm_parameters_\"+dong))\n",
    "  test_predict = lstm1(X_test_tensors_final.to(device)).detach().numpy().reshape(-1)#forward pass\n",
    "  test_predict_list += [test_predict.tolist()]\n",
    "pd.DataFrame(test_predict_list).T.to_csv(\"./Experiment/MHG/full_predict_result.csv\")"
   ]
  },
  {
   "cell_type": "code",
   "execution_count": 215,
   "metadata": {},
   "outputs": [],
   "source": [
    "X1_target = X1_lower\n",
    "\n",
    "test_predict_list = []\n",
    "X1_var = k_lookback(X1_target,look_back_range= look_back,look_back_end = 0)[look_back_end:]\n",
    "X2_var = k_lookback(X2.iloc[:,1],look_back_range=look_back,look_back_end = 0)[look_back_end:]\n",
    "X5_var = k_lookback(X5.iloc[:,1],look_back_range=look_back,look_back_end = 0)[look_back_end:]\n",
    "\n",
    "for dong in y.columns[1:]:\n",
    "  y_var = k_lookback(y_cumul.loc[:,dong],look_back_range=look_back,look_back_end = look_back_end)\n",
    "  X3_var = k_lookback(X3.loc[:,dong],look_back_range=look_back,look_back_end = 0)[look_back_end:]\n",
    "  X4_var = k_lookback(X4.loc[:,dong],look_back_range=look_back,look_back_end = 0)[look_back_end:]\n",
    "\n",
    "  X_df = np.array([[i1,i2,i3,i4,i5,i6] for i1,i2,i3,i4,i5,i6 in zip(y_var,X1_var,X2_var,X3_var,X4_var,X5_var)])\n",
    "  train_split = int(ratio*len(X_df))\n",
    "\n",
    "  X_train = X_df[:train_split,:]\n",
    "  X_test = X_df[train_split:,:]\n",
    "  y_df = np.array(y_cumul.loc[:,dong])[look_back+look_back_end:]\n",
    "  y_train = y_df[:train_split]\n",
    "  y_test = y_df[train_split:]\n",
    "\n",
    "  X_train_tensors_final = Variable(torch.Tensor(X_train))\n",
    "  X_test_tensors_final = Variable(torch.Tensor(X_test))\n",
    "\n",
    "  y_train_tensors = Variable(torch.Tensor(y_train))\n",
    "  y_test_tensors = Variable(torch.Tensor(y_test))\n",
    "\n",
    "  lstm1.load_state_dict(torch.load(\"./data/model_parameters/lstm_parameters_\"+dong))\n",
    "  test_predict = lstm1(X_test_tensors_final.to(device)).detach().numpy().reshape(-1)#forward pass\n",
    "  test_predict_list += [test_predict.tolist()]\n",
    "pd.DataFrame(test_predict_list).T.to_csv(\"./Experiment/MHG/lower_predict_result.csv\")"
   ]
  },
  {
   "cell_type": "code",
   "execution_count": null,
   "metadata": {},
   "outputs": [],
   "source": [
    "X1_target = X1_lower\n",
    "\n",
    "test_predict_list = []\n",
    "X1_var = k_lookback(X1_target,look_back_range= look_back,look_back_end = 0)[look_back_end:]\n",
    "X2_var = k_lookback(X2.iloc[:,1],look_back_range=look_back,look_back_end = 0)[look_back_end:]\n",
    "X5_var = k_lookback(X5.iloc[:,1],look_back_range=look_back,look_back_end = 0)[look_back_end:]\n",
    "\n",
    "for dong in y.columns[1:]:\n",
    "  y_var = k_lookback(y_cumul.loc[:,dong],look_back_range=look_back,look_back_end = look_back_end)\n",
    "  X3_var = k_lookback(X3.loc[:,dong],look_back_range=look_back,look_back_end = 0)[look_back_end:]\n",
    "  X4_var = k_lookback(X4.loc[:,dong],look_back_range=look_back,look_back_end = 0)[look_back_end:]\n",
    "\n",
    "  X_df = np.array([[i1,i2,i3,i4,i5,i6] for i1,i2,i3,i4,i5,i6 in zip(y_var,X1_var,X2_var,X3_var,X4_var,X5_var)])\n",
    "  train_split = int(ratio*len(X_df))\n",
    "\n",
    "  X_train = X_df[:train_split,:]\n",
    "  X_test = X_df[train_split:,:]\n",
    "  y_df = np.array(y_cumul.loc[:,dong])[look_back+look_back_end:]\n",
    "  y_train = y_df[:train_split]\n",
    "  y_test = y_df[train_split:]\n",
    "\n",
    "  X_train_tensors_final = Variable(torch.Tensor(X_train))\n",
    "  X_test_tensors_final = Variable(torch.Tensor(X_test))\n",
    "\n",
    "  y_train_tensors = Variable(torch.Tensor(y_train))\n",
    "  y_test_tensors = Variable(torch.Tensor(y_test))\n",
    "\n",
    "  lstm1.load_state_dict(torch.load(\"./data/model_parameters/lstm_parameters_\"+dong))\n",
    "  test_predict = lstm1(X_test_tensors_final.to(device)).detach().numpy().reshape(-1)#forward pass\n",
    "  test_predict_list += [test_predict.tolist()]\n",
    "pd.DataFrame(test_predict_list).T.to_csv(\"./Experiment/MHG/lower_predict_result.csv\")"
   ]
  },
  {
   "cell_type": "code",
   "execution_count": 216,
   "metadata": {},
   "outputs": [],
   "source": [
    "X1_target = X1_mean\n",
    "\n",
    "test_predict_list = []\n",
    "X1_var = k_lookback(X1_target,look_back_range= look_back,look_back_end = 0)[look_back_end:]\n",
    "X2_var = k_lookback(X2.iloc[:,1],look_back_range=look_back,look_back_end = 0)[look_back_end:]\n",
    "X5_var = k_lookback(X5.iloc[:,1],look_back_range=look_back,look_back_end = 0)[look_back_end:]\n",
    "\n",
    "for dong in y.columns[1:]:\n",
    "  y_var = k_lookback(y_cumul.loc[:,dong],look_back_range=look_back,look_back_end = look_back_end)\n",
    "  X3_var = k_lookback(X3.loc[:,dong],look_back_range=look_back,look_back_end = 0)[look_back_end:]\n",
    "  X4_var = k_lookback(X4.loc[:,dong],look_back_range=look_back,look_back_end = 0)[look_back_end:]\n",
    "\n",
    "  X_df = np.array([[i1,i2,i3,i4,i5,i6] for i1,i2,i3,i4,i5,i6 in zip(y_var,X1_var,X2_var,X3_var,X4_var,X5_var)])\n",
    "  train_split = int(ratio*len(X_df))\n",
    "\n",
    "  X_train = X_df[:train_split,:]\n",
    "  X_test = X_df[train_split:,:]\n",
    "  y_df = np.array(y_cumul.loc[:,dong])[look_back+look_back_end:]\n",
    "  y_train = y_df[:train_split]\n",
    "  y_test = y_df[train_split:]\n",
    "\n",
    "  X_train_tensors_final = Variable(torch.Tensor(X_train))\n",
    "  X_test_tensors_final = Variable(torch.Tensor(X_test))\n",
    "\n",
    "  y_train_tensors = Variable(torch.Tensor(y_train))\n",
    "  y_test_tensors = Variable(torch.Tensor(y_test))\n",
    "\n",
    "  lstm1.load_state_dict(torch.load(\"./data/model_parameters/lstm_parameters_\"+dong))\n",
    "  test_predict = lstm1(X_test_tensors_final.to(device)).detach().numpy().reshape(-1)#forward pass\n",
    "  test_predict_list += [test_predict.tolist()]\n",
    "pd.DataFrame(test_predict_list).T.to_csv(\"./Experiment/MHG/mean_predict_result.csv\")"
   ]
  },
  {
   "cell_type": "code",
   "execution_count": 217,
   "metadata": {},
   "outputs": [],
   "source": [
    "X1_target = X1_upper\n",
    "\n",
    "test_predict_list = []\n",
    "X1_var = k_lookback(X1_target,look_back_range= look_back,look_back_end = 0)[look_back_end:]\n",
    "X2_var = k_lookback(X2.iloc[:,1],look_back_range=look_back,look_back_end = 0)[look_back_end:]\n",
    "X5_var = k_lookback(X5.iloc[:,1],look_back_range=look_back,look_back_end = 0)[look_back_end:]\n",
    "\n",
    "for dong in y.columns[1:]:\n",
    "  y_var = k_lookback(y_cumul.loc[:,dong],look_back_range=look_back,look_back_end = look_back_end)\n",
    "  X3_var = k_lookback(X3.loc[:,dong],look_back_range=look_back,look_back_end = 0)[look_back_end:]\n",
    "  X4_var = k_lookback(X4.loc[:,dong],look_back_range=look_back,look_back_end = 0)[look_back_end:]\n",
    "\n",
    "  X_df = np.array([[i1,i2,i3,i4,i5,i6] for i1,i2,i3,i4,i5,i6 in zip(y_var,X1_var,X2_var,X3_var,X4_var,X5_var)])\n",
    "  train_split = int(ratio*len(X_df))\n",
    "\n",
    "  X_train = X_df[:train_split,:]\n",
    "  X_test = X_df[train_split:,:]\n",
    "  y_df = np.array(y_cumul.loc[:,dong])[look_back+look_back_end:]\n",
    "  y_train = y_df[:train_split]\n",
    "  y_test = y_df[train_split:]\n",
    "\n",
    "  X_train_tensors_final = Variable(torch.Tensor(X_train))\n",
    "  X_test_tensors_final = Variable(torch.Tensor(X_test))\n",
    "\n",
    "  y_train_tensors = Variable(torch.Tensor(y_train))\n",
    "  y_test_tensors = Variable(torch.Tensor(y_test))\n",
    "\n",
    "  lstm1.load_state_dict(torch.load(\"./data/model_parameters/lstm_parameters_\"+dong))\n",
    "  test_predict = lstm1(X_test_tensors_final.to(device)).detach().numpy().reshape(-1)#forward pass\n",
    "  test_predict_list += [test_predict.tolist()]\n",
    "pd.DataFrame(test_predict_list).T.to_csv(\"./Experiment/MHG/upper_predict_result.csv\")"
   ]
  },
  {
   "cell_type": "code",
   "execution_count": null,
   "metadata": {},
   "outputs": [],
   "source": []
  }
 ],
 "metadata": {
  "kernelspec": {
   "display_name": "Python 3.9.13 ('base')",
   "language": "python",
   "name": "python3"
  },
  "language_info": {
   "codemirror_mode": {
    "name": "ipython",
    "version": 3
   },
   "file_extension": ".py",
   "mimetype": "text/x-python",
   "name": "python",
   "nbconvert_exporter": "python",
   "pygments_lexer": "ipython3",
   "version": "3.9.13"
  },
  "orig_nbformat": 4,
  "vscode": {
   "interpreter": {
    "hash": "84fb82bab20c569585c4af9397c7309d3c8bcf8e92190772bb316fae4802aa46"
   }
  }
 },
 "nbformat": 4,
 "nbformat_minor": 2
}
