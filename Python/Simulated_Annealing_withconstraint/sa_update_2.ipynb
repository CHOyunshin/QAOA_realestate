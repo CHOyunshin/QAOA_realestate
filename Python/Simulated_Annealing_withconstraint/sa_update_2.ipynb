{
  "nbformat": 4,
  "nbformat_minor": 0,
  "metadata": {
    "colab": {
      "provenance": []
    },
    "kernelspec": {
      "name": "python3",
      "display_name": "Python 3"
    },
    "language_info": {
      "name": "python"
    }
  },
  "cells": [
    {
      "cell_type": "code",
      "execution_count": 1,
      "metadata": {
        "colab": {
          "base_uri": "https://localhost:8080/"
        },
        "id": "nzNvzpRFWyZz",
        "outputId": "3f3ff59b-d41e-43b9-bcd3-ada1cb93c324"
      },
      "outputs": [
        {
          "output_type": "stream",
          "name": "stdout",
          "text": [
            "Mounted at /content/drive\n",
            "/content/drive/MyDrive/sa_update\n",
            "['.ipynb_checkpoints', 'kqc_custom.py', '__pycache__', 'sa_update.ipynb', 'SA_ver2.py', 'SA_basefunctions.py']\n"
          ]
        }
      ],
      "source": [
        "%load_ext autoreload\n",
        "%autoreload 2\n",
        "\n",
        "from google.colab import drive\n",
        "drive.mount('/content/drive')\n",
        "\n",
        "%cd \"/content/drive/MyDrive/sa_update\"\n",
        "%pwd\n",
        "import os\n",
        "print(os.listdir())"
      ]
    },
    {
      "cell_type": "code",
      "source": [
        "import numpy as np"
      ],
      "metadata": {
        "id": "EBY87kvf1j5a"
      },
      "execution_count": 2,
      "outputs": []
    },
    {
      "cell_type": "code",
      "source": [
        "import pandas as pd"
      ],
      "metadata": {
        "id": "mTKoT1xt2Z8d"
      },
      "execution_count": 3,
      "outputs": []
    },
    {
      "cell_type": "code",
      "source": [
        "!pip install qiskit\n",
        "!pip install qiskit_optimization\n",
        "!pip install qiskit.utils"
      ],
      "metadata": {
        "colab": {
          "base_uri": "https://localhost:8080/"
        },
        "id": "qNqSQueJkCjv",
        "outputId": "f0f2b2c6-8b61-4193-cabb-69bd861ad7a6"
      },
      "execution_count": 4,
      "outputs": [
        {
          "output_type": "stream",
          "name": "stdout",
          "text": [
            "Looking in indexes: https://pypi.org/simple, https://us-python.pkg.dev/colab-wheels/public/simple/\n",
            "Collecting qiskit\n",
            "  Downloading qiskit-0.39.3.tar.gz (13 kB)\n",
            "Collecting qiskit-terra==0.22.3\n",
            "  Downloading qiskit_terra-0.22.3-cp37-cp37m-manylinux_2_17_x86_64.manylinux2014_x86_64.whl (4.8 MB)\n",
            "\u001b[K     |████████████████████████████████| 4.8 MB 5.1 MB/s \n",
            "\u001b[?25hCollecting qiskit-aer==0.11.1\n",
            "  Downloading qiskit_aer-0.11.1-cp37-cp37m-manylinux_2_17_x86_64.manylinux2014_x86_64.whl (19.2 MB)\n",
            "\u001b[K     |████████████████████████████████| 19.2 MB 1.2 MB/s \n",
            "\u001b[?25hCollecting qiskit-ibmq-provider==0.19.2\n",
            "  Downloading qiskit_ibmq_provider-0.19.2-py3-none-any.whl (240 kB)\n",
            "\u001b[K     |████████████████████████████████| 240 kB 47.9 MB/s \n",
            "\u001b[?25hRequirement already satisfied: numpy>=1.16.3 in /usr/local/lib/python3.7/dist-packages (from qiskit-aer==0.11.1->qiskit) (1.21.6)\n",
            "Requirement already satisfied: scipy>=1.0 in /usr/local/lib/python3.7/dist-packages (from qiskit-aer==0.11.1->qiskit) (1.7.3)\n",
            "Collecting websockets>=10.0\n",
            "  Downloading websockets-10.4-cp37-cp37m-manylinux_2_5_x86_64.manylinux1_x86_64.manylinux_2_17_x86_64.manylinux2014_x86_64.whl (106 kB)\n",
            "\u001b[K     |████████████████████████████████| 106 kB 58.7 MB/s \n",
            "\u001b[?25hRequirement already satisfied: requests>=2.19 in /usr/local/lib/python3.7/dist-packages (from qiskit-ibmq-provider==0.19.2->qiskit) (2.23.0)\n",
            "Collecting requests-ntlm>=1.1.0\n",
            "  Downloading requests_ntlm-1.1.0-py2.py3-none-any.whl (5.7 kB)\n",
            "Collecting websocket-client>=1.0.1\n",
            "  Downloading websocket_client-1.4.2-py3-none-any.whl (55 kB)\n",
            "\u001b[K     |████████████████████████████████| 55 kB 3.4 MB/s \n",
            "\u001b[?25hRequirement already satisfied: python-dateutil>=2.8.0 in /usr/local/lib/python3.7/dist-packages (from qiskit-ibmq-provider==0.19.2->qiskit) (2.8.2)\n",
            "Requirement already satisfied: urllib3>=1.21.1 in /usr/local/lib/python3.7/dist-packages (from qiskit-ibmq-provider==0.19.2->qiskit) (1.24.3)\n",
            "Requirement already satisfied: sympy>=1.3 in /usr/local/lib/python3.7/dist-packages (from qiskit-terra==0.22.3->qiskit) (1.7.1)\n",
            "Collecting shared-memory38\n",
            "  Downloading shared_memory38-0.1.2-cp37-cp37m-manylinux_2_5_x86_64.manylinux1_x86_64.whl (25 kB)\n",
            "Requirement already satisfied: typing-extensions in /usr/local/lib/python3.7/dist-packages (from qiskit-terra==0.22.3->qiskit) (4.1.1)\n",
            "Collecting symengine>=0.9\n",
            "  Downloading symengine-0.9.2-cp37-cp37m-manylinux2010_x86_64.whl (37.5 MB)\n",
            "\u001b[K     |████████████████████████████████| 37.5 MB 1.1 MB/s \n",
            "\u001b[?25hCollecting tweedledum<2.0,>=1.1\n",
            "  Downloading tweedledum-1.1.1-cp37-cp37m-manylinux_2_12_x86_64.manylinux2010_x86_64.whl (943 kB)\n",
            "\u001b[K     |████████████████████████████████| 943 kB 57.3 MB/s \n",
            "\u001b[?25hCollecting ply>=3.10\n",
            "  Downloading ply-3.11-py2.py3-none-any.whl (49 kB)\n",
            "\u001b[K     |████████████████████████████████| 49 kB 5.6 MB/s \n",
            "\u001b[?25hCollecting stevedore>=3.0.0\n",
            "  Downloading stevedore-3.5.2-py3-none-any.whl (50 kB)\n",
            "\u001b[K     |████████████████████████████████| 50 kB 6.4 MB/s \n",
            "\u001b[?25hCollecting retworkx>=0.11.0\n",
            "  Downloading retworkx-0.12.1-py3-none-any.whl (10 kB)\n",
            "Requirement already satisfied: dill>=0.3 in /usr/local/lib/python3.7/dist-packages (from qiskit-terra==0.22.3->qiskit) (0.3.6)\n",
            "Requirement already satisfied: psutil>=5 in /usr/local/lib/python3.7/dist-packages (from qiskit-terra==0.22.3->qiskit) (5.4.8)\n",
            "Requirement already satisfied: importlib-metadata<5.0 in /usr/local/lib/python3.7/dist-packages (from qiskit-terra==0.22.3->qiskit) (4.13.0)\n",
            "Requirement already satisfied: zipp>=0.5 in /usr/local/lib/python3.7/dist-packages (from importlib-metadata<5.0->qiskit-terra==0.22.3->qiskit) (3.10.0)\n",
            "Requirement already satisfied: six>=1.5 in /usr/local/lib/python3.7/dist-packages (from python-dateutil>=2.8.0->qiskit-ibmq-provider==0.19.2->qiskit) (1.15.0)\n",
            "Requirement already satisfied: certifi>=2017.4.17 in /usr/local/lib/python3.7/dist-packages (from requests>=2.19->qiskit-ibmq-provider==0.19.2->qiskit) (2022.9.24)\n",
            "Requirement already satisfied: idna<3,>=2.5 in /usr/local/lib/python3.7/dist-packages (from requests>=2.19->qiskit-ibmq-provider==0.19.2->qiskit) (2.10)\n",
            "Requirement already satisfied: chardet<4,>=3.0.2 in /usr/local/lib/python3.7/dist-packages (from requests>=2.19->qiskit-ibmq-provider==0.19.2->qiskit) (3.0.4)\n",
            "Collecting ntlm-auth>=1.0.2\n",
            "  Downloading ntlm_auth-1.5.0-py2.py3-none-any.whl (29 kB)\n",
            "Collecting cryptography>=1.3\n",
            "  Downloading cryptography-38.0.3-cp36-abi3-manylinux_2_24_x86_64.whl (4.1 MB)\n",
            "\u001b[K     |████████████████████████████████| 4.1 MB 38.1 MB/s \n",
            "\u001b[?25hRequirement already satisfied: cffi>=1.12 in /usr/local/lib/python3.7/dist-packages (from cryptography>=1.3->requests-ntlm>=1.1.0->qiskit-ibmq-provider==0.19.2->qiskit) (1.15.1)\n",
            "Requirement already satisfied: pycparser in /usr/local/lib/python3.7/dist-packages (from cffi>=1.12->cryptography>=1.3->requests-ntlm>=1.1.0->qiskit-ibmq-provider==0.19.2->qiskit) (2.21)\n",
            "Collecting rustworkx==0.12.1\n",
            "  Downloading rustworkx-0.12.1-cp37-cp37m-manylinux_2_17_x86_64.manylinux2014_x86_64.whl (1.9 MB)\n",
            "\u001b[K     |████████████████████████████████| 1.9 MB 54.5 MB/s \n",
            "\u001b[?25hCollecting pbr!=2.1.0,>=2.0.0\n",
            "  Downloading pbr-5.11.0-py2.py3-none-any.whl (112 kB)\n",
            "\u001b[K     |████████████████████████████████| 112 kB 55.9 MB/s \n",
            "\u001b[?25hRequirement already satisfied: mpmath>=0.19 in /usr/local/lib/python3.7/dist-packages (from sympy>=1.3->qiskit-terra==0.22.3->qiskit) (1.2.1)\n",
            "Building wheels for collected packages: qiskit\n",
            "  Building wheel for qiskit (setup.py) ... \u001b[?25l\u001b[?25hdone\n",
            "  Created wheel for qiskit: filename=qiskit-0.39.3-py3-none-any.whl size=12262 sha256=408f77b7b8cba78d72b4acf2a6f2bcea7e79ba5329dbe25e248f52dcb5df851e\n",
            "  Stored in directory: /root/.cache/pip/wheels/b1/36/b2/6eb4e6a961c404dce1da09f558c3d69f2bb7eea75e253c0890\n",
            "Successfully built qiskit\n",
            "Installing collected packages: rustworkx, pbr, tweedledum, symengine, stevedore, shared-memory38, retworkx, ply, ntlm-auth, cryptography, websockets, websocket-client, requests-ntlm, qiskit-terra, qiskit-ibmq-provider, qiskit-aer, qiskit\n",
            "Successfully installed cryptography-38.0.3 ntlm-auth-1.5.0 pbr-5.11.0 ply-3.11 qiskit-0.39.3 qiskit-aer-0.11.1 qiskit-ibmq-provider-0.19.2 qiskit-terra-0.22.3 requests-ntlm-1.1.0 retworkx-0.12.1 rustworkx-0.12.1 shared-memory38-0.1.2 stevedore-3.5.2 symengine-0.9.2 tweedledum-1.1.1 websocket-client-1.4.2 websockets-10.4\n",
            "Looking in indexes: https://pypi.org/simple, https://us-python.pkg.dev/colab-wheels/public/simple/\n",
            "Collecting qiskit_optimization\n",
            "  Downloading qiskit_optimization-0.4.0-py3-none-any.whl (159 kB)\n",
            "\u001b[K     |████████████████████████████████| 159 kB 5.2 MB/s \n",
            "\u001b[?25hRequirement already satisfied: networkx>=2.2 in /usr/local/lib/python3.7/dist-packages (from qiskit_optimization) (2.6.3)\n",
            "Requirement already satisfied: scipy>=1.4 in /usr/local/lib/python3.7/dist-packages (from qiskit_optimization) (1.7.3)\n",
            "Collecting docplex>=2.21.207\n",
            "  Downloading docplex-2.24.231.tar.gz (640 kB)\n",
            "\u001b[K     |████████████████████████████████| 640 kB 52.4 MB/s \n",
            "\u001b[?25hRequirement already satisfied: setuptools>=40.1.0 in /usr/local/lib/python3.7/dist-packages (from qiskit_optimization) (57.4.0)\n",
            "Requirement already satisfied: qiskit-terra>=0.20.0 in /usr/local/lib/python3.7/dist-packages (from qiskit_optimization) (0.22.3)\n",
            "Requirement already satisfied: numpy>=1.17 in /usr/local/lib/python3.7/dist-packages (from qiskit_optimization) (1.21.6)\n",
            "Requirement already satisfied: six in /usr/local/lib/python3.7/dist-packages (from docplex>=2.21.207->qiskit_optimization) (1.15.0)\n",
            "Requirement already satisfied: dill>=0.3 in /usr/local/lib/python3.7/dist-packages (from qiskit-terra>=0.20.0->qiskit_optimization) (0.3.6)\n",
            "Requirement already satisfied: python-dateutil>=2.8.0 in /usr/local/lib/python3.7/dist-packages (from qiskit-terra>=0.20.0->qiskit_optimization) (2.8.2)\n",
            "Requirement already satisfied: psutil>=5 in /usr/local/lib/python3.7/dist-packages (from qiskit-terra>=0.20.0->qiskit_optimization) (5.4.8)\n",
            "Requirement already satisfied: typing-extensions in /usr/local/lib/python3.7/dist-packages (from qiskit-terra>=0.20.0->qiskit_optimization) (4.1.1)\n",
            "Requirement already satisfied: ply>=3.10 in /usr/local/lib/python3.7/dist-packages (from qiskit-terra>=0.20.0->qiskit_optimization) (3.11)\n",
            "Requirement already satisfied: retworkx>=0.11.0 in /usr/local/lib/python3.7/dist-packages (from qiskit-terra>=0.20.0->qiskit_optimization) (0.12.1)\n",
            "Requirement already satisfied: tweedledum<2.0,>=1.1 in /usr/local/lib/python3.7/dist-packages (from qiskit-terra>=0.20.0->qiskit_optimization) (1.1.1)\n",
            "Requirement already satisfied: shared-memory38 in /usr/local/lib/python3.7/dist-packages (from qiskit-terra>=0.20.0->qiskit_optimization) (0.1.2)\n",
            "Requirement already satisfied: importlib-metadata<5.0 in /usr/local/lib/python3.7/dist-packages (from qiskit-terra>=0.20.0->qiskit_optimization) (4.13.0)\n",
            "Requirement already satisfied: symengine>=0.9 in /usr/local/lib/python3.7/dist-packages (from qiskit-terra>=0.20.0->qiskit_optimization) (0.9.2)\n",
            "Requirement already satisfied: stevedore>=3.0.0 in /usr/local/lib/python3.7/dist-packages (from qiskit-terra>=0.20.0->qiskit_optimization) (3.5.2)\n",
            "Requirement already satisfied: sympy>=1.3 in /usr/local/lib/python3.7/dist-packages (from qiskit-terra>=0.20.0->qiskit_optimization) (1.7.1)\n",
            "Requirement already satisfied: zipp>=0.5 in /usr/local/lib/python3.7/dist-packages (from importlib-metadata<5.0->qiskit-terra>=0.20.0->qiskit_optimization) (3.10.0)\n",
            "Requirement already satisfied: rustworkx==0.12.1 in /usr/local/lib/python3.7/dist-packages (from retworkx>=0.11.0->qiskit-terra>=0.20.0->qiskit_optimization) (0.12.1)\n",
            "Requirement already satisfied: pbr!=2.1.0,>=2.0.0 in /usr/local/lib/python3.7/dist-packages (from stevedore>=3.0.0->qiskit-terra>=0.20.0->qiskit_optimization) (5.11.0)\n",
            "Requirement already satisfied: mpmath>=0.19 in /usr/local/lib/python3.7/dist-packages (from sympy>=1.3->qiskit-terra>=0.20.0->qiskit_optimization) (1.2.1)\n",
            "Building wheels for collected packages: docplex\n",
            "  Building wheel for docplex (setup.py) ... \u001b[?25l\u001b[?25hdone\n",
            "  Created wheel for docplex: filename=docplex-2.24.231-py3-none-any.whl size=682229 sha256=33c6379cada71629a3574d6319701380e5a12c1c339942bbd1c0ef7767cb3adb\n",
            "  Stored in directory: /root/.cache/pip/wheels/23/1e/3a/be72fc2f48fd21c0526b122eb7d94f95fe729822760d80421c\n",
            "Successfully built docplex\n",
            "Installing collected packages: docplex, qiskit-optimization\n",
            "Successfully installed docplex-2.24.231 qiskit-optimization-0.4.0\n",
            "Looking in indexes: https://pypi.org/simple, https://us-python.pkg.dev/colab-wheels/public/simple/\n",
            "Collecting qiskit.utils\n",
            "  Downloading qiskit_utils-1.2.1.tar.gz (4.6 kB)\n",
            "Requirement already satisfied: qiskit>=0.34.2 in /usr/local/lib/python3.7/dist-packages (from qiskit.utils) (0.39.3)\n",
            "Requirement already satisfied: qiskit-ibmq-provider==0.19.2 in /usr/local/lib/python3.7/dist-packages (from qiskit>=0.34.2->qiskit.utils) (0.19.2)\n",
            "Requirement already satisfied: qiskit-terra==0.22.3 in /usr/local/lib/python3.7/dist-packages (from qiskit>=0.34.2->qiskit.utils) (0.22.3)\n",
            "Requirement already satisfied: qiskit-aer==0.11.1 in /usr/local/lib/python3.7/dist-packages (from qiskit>=0.34.2->qiskit.utils) (0.11.1)\n",
            "Requirement already satisfied: scipy>=1.0 in /usr/local/lib/python3.7/dist-packages (from qiskit-aer==0.11.1->qiskit>=0.34.2->qiskit.utils) (1.7.3)\n",
            "Requirement already satisfied: numpy>=1.16.3 in /usr/local/lib/python3.7/dist-packages (from qiskit-aer==0.11.1->qiskit>=0.34.2->qiskit.utils) (1.21.6)\n",
            "Requirement already satisfied: urllib3>=1.21.1 in /usr/local/lib/python3.7/dist-packages (from qiskit-ibmq-provider==0.19.2->qiskit>=0.34.2->qiskit.utils) (1.24.3)\n",
            "Requirement already satisfied: python-dateutil>=2.8.0 in /usr/local/lib/python3.7/dist-packages (from qiskit-ibmq-provider==0.19.2->qiskit>=0.34.2->qiskit.utils) (2.8.2)\n",
            "Requirement already satisfied: requests-ntlm>=1.1.0 in /usr/local/lib/python3.7/dist-packages (from qiskit-ibmq-provider==0.19.2->qiskit>=0.34.2->qiskit.utils) (1.1.0)\n",
            "Requirement already satisfied: websocket-client>=1.0.1 in /usr/local/lib/python3.7/dist-packages (from qiskit-ibmq-provider==0.19.2->qiskit>=0.34.2->qiskit.utils) (1.4.2)\n",
            "Requirement already satisfied: websockets>=10.0 in /usr/local/lib/python3.7/dist-packages (from qiskit-ibmq-provider==0.19.2->qiskit>=0.34.2->qiskit.utils) (10.4)\n",
            "Requirement already satisfied: requests>=2.19 in /usr/local/lib/python3.7/dist-packages (from qiskit-ibmq-provider==0.19.2->qiskit>=0.34.2->qiskit.utils) (2.23.0)\n",
            "Requirement already satisfied: psutil>=5 in /usr/local/lib/python3.7/dist-packages (from qiskit-terra==0.22.3->qiskit>=0.34.2->qiskit.utils) (5.4.8)\n",
            "Requirement already satisfied: sympy>=1.3 in /usr/local/lib/python3.7/dist-packages (from qiskit-terra==0.22.3->qiskit>=0.34.2->qiskit.utils) (1.7.1)\n",
            "Requirement already satisfied: symengine>=0.9 in /usr/local/lib/python3.7/dist-packages (from qiskit-terra==0.22.3->qiskit>=0.34.2->qiskit.utils) (0.9.2)\n",
            "Requirement already satisfied: tweedledum<2.0,>=1.1 in /usr/local/lib/python3.7/dist-packages (from qiskit-terra==0.22.3->qiskit>=0.34.2->qiskit.utils) (1.1.1)\n",
            "Requirement already satisfied: ply>=3.10 in /usr/local/lib/python3.7/dist-packages (from qiskit-terra==0.22.3->qiskit>=0.34.2->qiskit.utils) (3.11)\n",
            "Requirement already satisfied: stevedore>=3.0.0 in /usr/local/lib/python3.7/dist-packages (from qiskit-terra==0.22.3->qiskit>=0.34.2->qiskit.utils) (3.5.2)\n",
            "Requirement already satisfied: typing-extensions in /usr/local/lib/python3.7/dist-packages (from qiskit-terra==0.22.3->qiskit>=0.34.2->qiskit.utils) (4.1.1)\n",
            "Requirement already satisfied: shared-memory38 in /usr/local/lib/python3.7/dist-packages (from qiskit-terra==0.22.3->qiskit>=0.34.2->qiskit.utils) (0.1.2)\n",
            "Requirement already satisfied: retworkx>=0.11.0 in /usr/local/lib/python3.7/dist-packages (from qiskit-terra==0.22.3->qiskit>=0.34.2->qiskit.utils) (0.12.1)\n",
            "Requirement already satisfied: importlib-metadata<5.0 in /usr/local/lib/python3.7/dist-packages (from qiskit-terra==0.22.3->qiskit>=0.34.2->qiskit.utils) (4.13.0)\n",
            "Requirement already satisfied: dill>=0.3 in /usr/local/lib/python3.7/dist-packages (from qiskit-terra==0.22.3->qiskit>=0.34.2->qiskit.utils) (0.3.6)\n",
            "Requirement already satisfied: zipp>=0.5 in /usr/local/lib/python3.7/dist-packages (from importlib-metadata<5.0->qiskit-terra==0.22.3->qiskit>=0.34.2->qiskit.utils) (3.10.0)\n",
            "Requirement already satisfied: six>=1.5 in /usr/local/lib/python3.7/dist-packages (from python-dateutil>=2.8.0->qiskit-ibmq-provider==0.19.2->qiskit>=0.34.2->qiskit.utils) (1.15.0)\n",
            "Requirement already satisfied: chardet<4,>=3.0.2 in /usr/local/lib/python3.7/dist-packages (from requests>=2.19->qiskit-ibmq-provider==0.19.2->qiskit>=0.34.2->qiskit.utils) (3.0.4)\n",
            "Requirement already satisfied: idna<3,>=2.5 in /usr/local/lib/python3.7/dist-packages (from requests>=2.19->qiskit-ibmq-provider==0.19.2->qiskit>=0.34.2->qiskit.utils) (2.10)\n",
            "Requirement already satisfied: certifi>=2017.4.17 in /usr/local/lib/python3.7/dist-packages (from requests>=2.19->qiskit-ibmq-provider==0.19.2->qiskit>=0.34.2->qiskit.utils) (2022.9.24)\n",
            "Requirement already satisfied: cryptography>=1.3 in /usr/local/lib/python3.7/dist-packages (from requests-ntlm>=1.1.0->qiskit-ibmq-provider==0.19.2->qiskit>=0.34.2->qiskit.utils) (38.0.3)\n",
            "Requirement already satisfied: ntlm-auth>=1.0.2 in /usr/local/lib/python3.7/dist-packages (from requests-ntlm>=1.1.0->qiskit-ibmq-provider==0.19.2->qiskit>=0.34.2->qiskit.utils) (1.5.0)\n",
            "Requirement already satisfied: cffi>=1.12 in /usr/local/lib/python3.7/dist-packages (from cryptography>=1.3->requests-ntlm>=1.1.0->qiskit-ibmq-provider==0.19.2->qiskit>=0.34.2->qiskit.utils) (1.15.1)\n",
            "Requirement already satisfied: pycparser in /usr/local/lib/python3.7/dist-packages (from cffi>=1.12->cryptography>=1.3->requests-ntlm>=1.1.0->qiskit-ibmq-provider==0.19.2->qiskit>=0.34.2->qiskit.utils) (2.21)\n",
            "Requirement already satisfied: rustworkx==0.12.1 in /usr/local/lib/python3.7/dist-packages (from retworkx>=0.11.0->qiskit-terra==0.22.3->qiskit>=0.34.2->qiskit.utils) (0.12.1)\n",
            "Requirement already satisfied: pbr!=2.1.0,>=2.0.0 in /usr/local/lib/python3.7/dist-packages (from stevedore>=3.0.0->qiskit-terra==0.22.3->qiskit>=0.34.2->qiskit.utils) (5.11.0)\n",
            "Requirement already satisfied: mpmath>=0.19 in /usr/local/lib/python3.7/dist-packages (from sympy>=1.3->qiskit-terra==0.22.3->qiskit>=0.34.2->qiskit.utils) (1.2.1)\n",
            "Building wheels for collected packages: qiskit.utils\n",
            "  Building wheel for qiskit.utils (setup.py) ... \u001b[?25l\u001b[?25hdone\n",
            "  Created wheel for qiskit.utils: filename=qiskit_utils-1.2.1-py3-none-any.whl size=6564 sha256=a4711e85a1e5fa457a04c4653477102c2bcad5b465e98e69a970c0901d134055\n",
            "  Stored in directory: /root/.cache/pip/wheels/ef/6d/c0/8a130c1911682e1b9adc6a23b0c36072289157cdbdebdc7b59\n",
            "Successfully built qiskit.utils\n",
            "Installing collected packages: qiskit.utils\n",
            "Successfully installed qiskit.utils-1.2.1\n"
          ]
        }
      ]
    },
    {
      "cell_type": "code",
      "source": [
        "from kqc_custom import generate_dependent_sample\n",
        "from SA_ver2 import SimulatedAnnealing as SA"
      ],
      "metadata": {
        "id": "LRe55bGW2l-D"
      },
      "execution_count": 209,
      "outputs": []
    },
    {
      "cell_type": "code",
      "source": [
        "import matplotlib.pyplot as plt"
      ],
      "metadata": {
        "id": "DymjpEDk8Vsm"
      },
      "execution_count": 82,
      "outputs": []
    },
    {
      "cell_type": "code",
      "source": [
        "from SA_basefunctions import get_QB as qb"
      ],
      "metadata": {
        "id": "hlf0QnCInlwx"
      },
      "execution_count": 88,
      "outputs": []
    },
    {
      "cell_type": "markdown",
      "source": [
        "# **데이터 생성**"
      ],
      "metadata": {
        "id": "bXk5wCWq_dn0"
      }
    },
    {
      "cell_type": "code",
      "source": [
        "X, y = generate_dependent_sample(500, 10, beta_coef=[4, 3, 2, 2], epsilon = 0.5, covariance_parameter = 10)\n",
        "X = pd.DataFrame(X)\n",
        "Q = np.cov(X.T)\n",
        "Beta = np.ones(len(X.T))\n",
        "ld = 0.7"
      ],
      "metadata": {
        "id": "0aPY3Uq5kWR5"
      },
      "execution_count": 195,
      "outputs": []
    },
    {
      "cell_type": "code",
      "source": [
        "binind_lst = []\n",
        "qb_lst = []\n",
        "for i in range(1,2**10):\n",
        "    binind = [bool(int(j)) for j in bin(i)[2:]]\n",
        "    binind = [False for i in range(10-len(binind))]+ binind\n",
        "    binind_lst += [binind]\n",
        "    X_choose = X.iloc[:, binind]\n",
        "    qb_lst += [qb(X_choose, 10, Q, Beta, ld)]"
      ],
      "metadata": {
        "id": "kLt0CIiymio-"
      },
      "execution_count": 196,
      "outputs": []
    },
    {
      "cell_type": "code",
      "source": [
        "plt.plot(qb_lst)"
      ],
      "metadata": {
        "colab": {
          "base_uri": "https://localhost:8080/",
          "height": 283
        },
        "id": "8StvWIop9Mml",
        "outputId": "204b8a87-1404-42bd-f34b-b22ca9990dd1"
      },
      "execution_count": 197,
      "outputs": [
        {
          "output_type": "execute_result",
          "data": {
            "text/plain": [
              "[<matplotlib.lines.Line2D at 0x7fe660a2dc90>]"
            ]
          },
          "metadata": {},
          "execution_count": 197
        },
        {
          "output_type": "display_data",
          "data": {
            "text/plain": [
              "<Figure size 432x288 with 1 Axes>"
            ],
            "image/png": "[encoded data removed]"
          },
          "metadata": {
            "needs_background": "light"
          }
        }
      ]
    },
    {
      "cell_type": "code",
      "source": [
        "qb(X, 10, Q, Beta, ld)  # 변수선택 없이 구한 objectitve function 값"
      ],
      "metadata": {
        "colab": {
          "base_uri": "https://localhost:8080/"
        },
        "id": "XSKI-tYPnu4s",
        "outputId": "29cd9b6d-1e59-484d-bc28-f145fa9be14e"
      },
      "execution_count": 198,
      "outputs": [
        {
          "output_type": "execute_result",
          "data": {
            "text/plain": [
              "-115.92364789286377"
            ]
          },
          "metadata": {},
          "execution_count": 198
        }
      ]
    },
    {
      "cell_type": "markdown",
      "source": [
        "# **등호 제약식이 있는 SA**"
      ],
      "metadata": {
        "id": "diVrewGi_u00"
      }
    },
    {
      "cell_type": "code",
      "source": [
        "'''\n",
        "input 설명(순서대로)\n",
        "X: data의 X\n",
        "y: data의 y\n",
        "schedule list: SA의 update 스케쥴을 의미, \n",
        "               단계와 단계별 업데이트 횟수로 [10, 20]이면 총 2단계 update로 1단계엔 10회, 2단계엔 20회 update를 진행함을 의미\n",
        "               성능이 너무 낮다면 단계 수와 단계별 update 수를 늘려주면 됨(ex: [30, 40, 50])\n",
        "               반대로 성능이 너무 높다면 줄여주면 됨(ex: [10])\n",
        "k_flip: 몇 개씩 뒤집어서 search할지를 정해주면 됨. 단 equal condition에서는 \"반드시 2의 배수\"여야 함(1대 1로 update 되어야 개수가 유지되기 때문)\n",
        "alpha, tau: 온도 낮추는 비율과 초기 온도인데... 그냥 alpha는 0.8~0.99 사이 값, tau는 1로 놓고 쓰면 됨\n",
        "Q: Q matrix\n",
        "Beta: Beta vector\n",
        "Lambda: lambda\n",
        "constraint: 몇 개로 등호 제약을 둘 것인지, 즉 총 몇 개가 선택되길 원하는지\n",
        "condition: 반드시 뽑아야 하는 변수의 정수 index list, defalut 존재(빈 리스트)\n",
        "'''\n",
        "\n",
        "simulatedannealing = SA(X, y, [30, 50, 100], 2, 0.9, 1, Q = Q, Beta = Beta, Lambda = ld, constraint = 4, condition = [0])\n",
        "sa_result = simulatedannealing.equal()"
      ],
      "metadata": {
        "id": "7zs9MC4ymYGa"
      },
      "execution_count": 216,
      "outputs": []
    },
    {
      "cell_type": "code",
      "source": [
        "plt.plot(qb_lst)\n",
        "plt.plot([i for i in range(1024)], [qb(sa_result, 10, Q, Beta, ld) for i in range(1024)], linestyle = 'dashed')"
      ],
      "metadata": {
        "colab": {
          "base_uri": "https://localhost:8080/",
          "height": 283
        },
        "id": "lAA8EXTp-TEA",
        "outputId": "7155991d-7239-45df-d2f3-ad3470dd86a7"
      },
      "execution_count": 217,
      "outputs": [
        {
          "output_type": "execute_result",
          "data": {
            "text/plain": [
              "[<matplotlib.lines.Line2D at 0x7fe6572d8ad0>]"
            ]
          },
          "metadata": {},
          "execution_count": 217
        },
        {
          "output_type": "display_data",
          "data": {
            "text/plain": [
              "<Figure size 432x288 with 1 Axes>"
            ],
            "image/png": "[encoded data removed]"
          },
          "metadata": {
            "needs_background": "light"
          }
        }
      ]
    },
    {
      "cell_type": "code",
      "source": [
        "sa_result # 4개 등호 제약으로 4개의 변수 뽑힘, 변수 0 반드시 뽑힘"
      ],
      "metadata": {
        "colab": {
          "base_uri": "https://localhost:8080/",
          "height": 424
        },
        "id": "ZOSDbVL5kHSM",
        "outputId": "aa94b90e-6e06-4569-e194-fa719e985450"
      },
      "execution_count": 218,
      "outputs": [
        {
          "output_type": "execute_result",
          "data": {
            "text/plain": [
              "             0         5         6         8\n",
              "0    -7.829785 -2.085298  2.740441 -2.448392\n",
              "1    10.976963  6.095843  0.431581  2.833347\n",
              "2     0.672092  3.345613  0.313443  6.092855\n",
              "3    -7.165594 -6.425925 -1.133545 -3.414541\n",
              "4     1.886018 -0.304151 -1.097234  5.418232\n",
              "..         ...       ...       ...       ...\n",
              "495   1.661781  2.663295 -0.882099  7.578279\n",
              "496  -0.170246  5.589628  3.400144  6.201142\n",
              "497 -13.257476 -6.114456  0.666729 -3.938359\n",
              "498  -2.902046  0.741478  2.228890 -0.543059\n",
              "499   0.392140  5.500428  9.142907  1.049087\n",
              "\n",
              "[500 rows x 4 columns]"
            ],
            "text/html": [
              "\n",
              "  <div id=\"df-60c57e87-934b-4077-a620-7ade5acea5fe\">\n",
              "    <div class=\"colab-df-container\">\n",
              "      <div>\n",
              "<style scoped>\n",
              "    .dataframe tbody tr th:only-of-type {\n",
              "        vertical-align: middle;\n",
              "    }\n",
              "\n",
              "    .dataframe tbody tr th {\n",
              "        vertical-align: top;\n",
              "    }\n",
              "\n",
              "    .dataframe thead th {\n",
              "        text-align: right;\n",
              "    }\n",
              "</style>\n",
              "<table border=\"1\" class=\"dataframe\">\n",
              "  <thead>\n",
              "    <tr style=\"text-align: right;\">\n",
              "      <th></th>\n",
              "      <th>0</th>\n",
              "      <th>5</th>\n",
              "      <th>6</th>\n",
              "      <th>8</th>\n",
              "    </tr>\n",
              "  </thead>\n",
              "  <tbody>\n",
              "    <tr>\n",
              "      <th>0</th>\n",
              "      <td>-7.829785</td>\n",
              "      <td>-2.085298</td>\n",
              "      <td>2.740441</td>\n",
              "      <td>-2.448392</td>\n",
              "    </tr>\n",
              "    <tr>\n",
              "      <th>1</th>\n",
              "      <td>10.976963</td>\n",
              "      <td>6.095843</td>\n",
              "      <td>0.431581</td>\n",
              "      <td>2.833347</td>\n",
              "    </tr>\n",
              "    <tr>\n",
              "      <th>2</th>\n",
              "      <td>0.672092</td>\n",
              "      <td>3.345613</td>\n",
              "      <td>0.313443</td>\n",
              "      <td>6.092855</td>\n",
              "    </tr>\n",
              "    <tr>\n",
              "      <th>3</th>\n",
              "      <td>-7.165594</td>\n",
              "      <td>-6.425925</td>\n",
              "      <td>-1.133545</td>\n",
              "      <td>-3.414541</td>\n",
              "    </tr>\n",
              "    <tr>\n",
              "      <th>4</th>\n",
              "      <td>1.886018</td>\n",
              "      <td>-0.304151</td>\n",
              "      <td>-1.097234</td>\n",
              "      <td>5.418232</td>\n",
              "    </tr>\n",
              "    <tr>\n",
              "      <th>...</th>\n",
              "      <td>...</td>\n",
              "      <td>...</td>\n",
              "      <td>...</td>\n",
              "      <td>...</td>\n",
              "    </tr>\n",
              "    <tr>\n",
              "      <th>495</th>\n",
              "      <td>1.661781</td>\n",
              "      <td>2.663295</td>\n",
              "      <td>-0.882099</td>\n",
              "      <td>7.578279</td>\n",
              "    </tr>\n",
              "    <tr>\n",
              "      <th>496</th>\n",
              "      <td>-0.170246</td>\n",
              "      <td>5.589628</td>\n",
              "      <td>3.400144</td>\n",
              "      <td>6.201142</td>\n",
              "    </tr>\n",
              "    <tr>\n",
              "      <th>497</th>\n",
              "      <td>-13.257476</td>\n",
              "      <td>-6.114456</td>\n",
              "      <td>0.666729</td>\n",
              "      <td>-3.938359</td>\n",
              "    </tr>\n",
              "    <tr>\n",
              "      <th>498</th>\n",
              "      <td>-2.902046</td>\n",
              "      <td>0.741478</td>\n",
              "      <td>2.228890</td>\n",
              "      <td>-0.543059</td>\n",
              "    </tr>\n",
              "    <tr>\n",
              "      <th>499</th>\n",
              "      <td>0.392140</td>\n",
              "      <td>5.500428</td>\n",
              "      <td>9.142907</td>\n",
              "      <td>1.049087</td>\n",
              "    </tr>\n",
              "  </tbody>\n",
              "</table>\n",
              "<p>500 rows × 4 columns</p>\n",
              "</div>\n",
              "      <button class=\"colab-df-convert\" onclick=\"convertToInteractive('df-60c57e87-934b-4077-a620-7ade5acea5fe')\"\n",
              "              title=\"Convert this dataframe to an interactive table.\"\n",
              "              style=\"display:none;\">\n",
              "        \n",
              "  <svg xmlns=\"http://www.w3.org/2000/svg\" height=\"24px\"viewBox=\"0 0 24 24\"\n",
              "       width=\"24px\">\n",
              "    <path d=\"M0 0h24v24H0V0z\" fill=\"none\"/>\n",
              "    <path d=\"M18.56 5.44l.94 2.06.94-2.06 2.06-.94-2.06-.94-.94-2.06-.94 2.06-2.06.94zm-11 1L8.5 8.5l.94-2.06 2.06-.94-2.06-.94L8.5 2.5l-.94 2.06-2.06.94zm10 10l.94 2.06.94-2.06 2.06-.94-2.06-.94-.94-2.06-.94 2.06-2.06.94z\"/><path d=\"M17.41 7.96l-1.37-1.37c-.4-.4-.92-.59-1.43-.59-.52 0-1.04.2-1.43.59L10.3 9.45l-7.72 7.72c-.78.78-.78 2.05 0 2.83L4 21.41c.39.39.9.59 1.41.59.51 0 1.02-.2 1.41-.59l7.78-7.78 2.81-2.81c.8-.78.8-2.07 0-2.86zM5.41 20L4 18.59l7.72-7.72 1.47 1.35L5.41 20z\"/>\n",
              "  </svg>\n",
              "      </button>\n",
              "      \n",
              "  <style>\n",
              "    .colab-df-container {\n",
              "      display:flex;\n",
              "      flex-wrap:wrap;\n",
              "      gap: 12px;\n",
              "    }\n",
              "\n",
              "    .colab-df-convert {\n",
              "      background-color: #E8F0FE;\n",
              "      border: none;\n",
              "      border-radius: 50%;\n",
              "      cursor: pointer;\n",
              "      display: none;\n",
              "      fill: #1967D2;\n",
              "      height: 32px;\n",
              "      padding: 0 0 0 0;\n",
              "      width: 32px;\n",
              "    }\n",
              "\n",
              "    .colab-df-convert:hover {\n",
              "      background-color: #E2EBFA;\n",
              "      box-shadow: 0px 1px 2px rgba(60, 64, 67, 0.3), 0px 1px 3px 1px rgba(60, 64, 67, 0.15);\n",
              "      fill: #174EA6;\n",
              "    }\n",
              "\n",
              "    [theme=dark] .colab-df-convert {\n",
              "      background-color: #3B4455;\n",
              "      fill: #D2E3FC;\n",
              "    }\n",
              "\n",
              "    [theme=dark] .colab-df-convert:hover {\n",
              "      background-color: #434B5C;\n",
              "      box-shadow: 0px 1px 3px 1px rgba(0, 0, 0, 0.15);\n",
              "      filter: drop-shadow(0px 1px 2px rgba(0, 0, 0, 0.3));\n",
              "      fill: #FFFFFF;\n",
              "    }\n",
              "  </style>\n",
              "\n",
              "      <script>\n",
              "        const buttonEl =\n",
              "          document.querySelector('#df-60c57e87-934b-4077-a620-7ade5acea5fe button.colab-df-convert');\n",
              "        buttonEl.style.display =\n",
              "          google.colab.kernel.accessAllowed ? 'block' : 'none';\n",
              "\n",
              "        async function convertToInteractive(key) {\n",
              "          const element = document.querySelector('#df-60c57e87-934b-4077-a620-7ade5acea5fe');\n",
              "          const dataTable =\n",
              "            await google.colab.kernel.invokeFunction('convertToInteractive',\n",
              "                                                     [key], {});\n",
              "          if (!dataTable) return;\n",
              "\n",
              "          const docLinkHtml = 'Like what you see? Visit the ' +\n",
              "            '<a target=\"_blank\" href=https://colab.research.google.com/notebooks/data_table.ipynb>data table notebook</a>'\n",
              "            + ' to learn more about interactive tables.';\n",
              "          element.innerHTML = '';\n",
              "          dataTable['output_type'] = 'display_data';\n",
              "          await google.colab.output.renderOutput(dataTable, element);\n",
              "          const docLink = document.createElement('div');\n",
              "          docLink.innerHTML = docLinkHtml;\n",
              "          element.appendChild(docLink);\n",
              "        }\n",
              "      </script>\n",
              "    </div>\n",
              "  </div>\n",
              "  "
            ]
          },
          "metadata": {},
          "execution_count": 218
        }
      ]
    },
    {
      "cell_type": "markdown",
      "source": [
        "# **이하 제약식이 있는 SA**"
      ],
      "metadata": {
        "id": "ly9TQoWSCdTD"
      }
    },
    {
      "cell_type": "code",
      "source": [
        "'''\n",
        "input 설명(순서대로)\n",
        "X: data의 X\n",
        "y: data의 y\n",
        "schedule list: SA의 update 스케쥴을 의미, \n",
        "               단계와 단계별 업데이트 횟수로 [10, 20]이면 총 2단계 update로 1단계엔 10회, 2단계엔 20회 update를 진행함을 의미\n",
        "               성능이 너무 낮다면 단계 수와 단계별 update 수를 늘려주면 됨(ex: [30, 40, 50])\n",
        "               반대로 성능이 너무 높다면 줄여주면 됨(ex: [10])\n",
        "k_flip: 몇 개씩 뒤집어서 search할지를 정해주면 됨. unequal condition에서는 2의 배수일 필요 없음\n",
        "alpha, tau: 온도 낮추는 비율과 초기 온도인데... 그냥 alpha는 0.8~0.99 사이 값, tau는 1로 놓고 쓰면 됨\n",
        "Q: Q matrix\n",
        "Beta: Beta vector\n",
        "Lambda: lambda\n",
        "constraint: 몇 개로 부등호 제약을 둘 것인지, 즉 총 몇 개 이하로 뽑을 것인지\n",
        "condition: 반드시 뽑아야 하는 변수의 정수 index list, defalut 존재(빈 리스트)\n",
        "'''\n",
        "\n",
        "simulatedannealing = SA(X, y, [30, 50, 100], 1, 0.9, 1, Q = Q, Beta = Beta, Lambda = ld, constraint = 9, condition = [0, 1])\n",
        "sa_result2 = simulatedannealing.unequal()"
      ],
      "metadata": {
        "id": "q3XgKG965GBX"
      },
      "execution_count": 219,
      "outputs": []
    },
    {
      "cell_type": "code",
      "source": [
        "plt.plot(qb_lst)\n",
        "plt.plot([i for i in range(1024)], [qb(sa_result2, 10, Q, Beta, ld) for i in range(1024)], linestyle = 'dashed')"
      ],
      "metadata": {
        "colab": {
          "base_uri": "https://localhost:8080/",
          "height": 283
        },
        "outputId": "9a1c3a1b-d272-4875-e3d9-57181ba550d6",
        "id": "4pjSC9D65UMT"
      },
      "execution_count": 220,
      "outputs": [
        {
          "output_type": "execute_result",
          "data": {
            "text/plain": [
              "[<matplotlib.lines.Line2D at 0x7fe650ea1c50>]"
            ]
          },
          "metadata": {},
          "execution_count": 220
        },
        {
          "output_type": "display_data",
          "data": {
            "text/plain": [
              "<Figure size 432x288 with 1 Axes>"
            ],
            "image/png": "[encoded data removed]"
          },
          "metadata": {
            "needs_background": "light"
          }
        }
      ]
    },
    {
      "cell_type": "code",
      "source": [
        "sa_result2  # 9개 이하의 제약으로 총 7개의 변수 뽑힘, 변수 0과 1 반드시 뽑힘"
      ],
      "metadata": {
        "colab": {
          "base_uri": "https://localhost:8080/",
          "height": 424
        },
        "outputId": "3161ed8b-14c0-4cf7-c5f6-e3c2c95c2710",
        "id": "k2FM3rhi5UMV"
      },
      "execution_count": 221,
      "outputs": [
        {
          "output_type": "execute_result",
          "data": {
            "text/plain": [
              "             0         1         3         4         5         6         8\n",
              "0    -7.829785  3.185001 -3.195305  2.240202 -2.085298  2.740441 -2.448392\n",
              "1    10.976963 -2.391829 -1.242987 -1.510718  6.095843  0.431581  2.833347\n",
              "2     0.672092 -4.793522 -4.741333 -5.123452  3.345613  0.313443  6.092855\n",
              "3    -7.165594 -1.704284 -5.302297 -4.658252 -6.425925 -1.133545 -3.414541\n",
              "4     1.886018 -5.702456 -3.359002 -3.806169 -0.304151 -1.097234  5.418232\n",
              "..         ...       ...       ...       ...       ...       ...       ...\n",
              "495   1.661781 -4.282538 -0.387623 -2.839261  2.663295 -0.882099  7.578279\n",
              "496  -0.170246  1.313604 -0.932862  0.608757  5.589628  3.400144  6.201142\n",
              "497 -13.257476 -1.891520 -3.122351 -2.621966 -6.114456  0.666729 -3.938359\n",
              "498  -2.902046 -0.386939 -5.867328 -3.553492  0.741478  2.228890 -0.543059\n",
              "499   0.392140  5.873602 -2.893190  6.227276  5.500428  9.142907  1.049087\n",
              "\n",
              "[500 rows x 7 columns]"
            ],
            "text/html": [
              "\n",
              "  <div id=\"df-09ec2811-ff65-439f-a2fe-1a288c06ea8b\">\n",
              "    <div class=\"colab-df-container\">\n",
              "      <div>\n",
              "<style scoped>\n",
              "    .dataframe tbody tr th:only-of-type {\n",
              "        vertical-align: middle;\n",
              "    }\n",
              "\n",
              "    .dataframe tbody tr th {\n",
              "        vertical-align: top;\n",
              "    }\n",
              "\n",
              "    .dataframe thead th {\n",
              "        text-align: right;\n",
              "    }\n",
              "</style>\n",
              "<table border=\"1\" class=\"dataframe\">\n",
              "  <thead>\n",
              "    <tr style=\"text-align: right;\">\n",
              "      <th></th>\n",
              "      <th>0</th>\n",
              "      <th>1</th>\n",
              "      <th>3</th>\n",
              "      <th>4</th>\n",
              "      <th>5</th>\n",
              "      <th>6</th>\n",
              "      <th>8</th>\n",
              "    </tr>\n",
              "  </thead>\n",
              "  <tbody>\n",
              "    <tr>\n",
              "      <th>0</th>\n",
              "      <td>-7.829785</td>\n",
              "      <td>3.185001</td>\n",
              "      <td>-3.195305</td>\n",
              "      <td>2.240202</td>\n",
              "      <td>-2.085298</td>\n",
              "      <td>2.740441</td>\n",
              "      <td>-2.448392</td>\n",
              "    </tr>\n",
              "    <tr>\n",
              "      <th>1</th>\n",
              "      <td>10.976963</td>\n",
              "      <td>-2.391829</td>\n",
              "      <td>-1.242987</td>\n",
              "      <td>-1.510718</td>\n",
              "      <td>6.095843</td>\n",
              "      <td>0.431581</td>\n",
              "      <td>2.833347</td>\n",
              "    </tr>\n",
              "    <tr>\n",
              "      <th>2</th>\n",
              "      <td>0.672092</td>\n",
              "      <td>-4.793522</td>\n",
              "      <td>-4.741333</td>\n",
              "      <td>-5.123452</td>\n",
              "      <td>3.345613</td>\n",
              "      <td>0.313443</td>\n",
              "      <td>6.092855</td>\n",
              "    </tr>\n",
              "    <tr>\n",
              "      <th>3</th>\n",
              "      <td>-7.165594</td>\n",
              "      <td>-1.704284</td>\n",
              "      <td>-5.302297</td>\n",
              "      <td>-4.658252</td>\n",
              "      <td>-6.425925</td>\n",
              "      <td>-1.133545</td>\n",
              "      <td>-3.414541</td>\n",
              "    </tr>\n",
              "    <tr>\n",
              "      <th>4</th>\n",
              "      <td>1.886018</td>\n",
              "      <td>-5.702456</td>\n",
              "      <td>-3.359002</td>\n",
              "      <td>-3.806169</td>\n",
              "      <td>-0.304151</td>\n",
              "      <td>-1.097234</td>\n",
              "      <td>5.418232</td>\n",
              "    </tr>\n",
              "    <tr>\n",
              "      <th>...</th>\n",
              "      <td>...</td>\n",
              "      <td>...</td>\n",
              "      <td>...</td>\n",
              "      <td>...</td>\n",
              "      <td>...</td>\n",
              "      <td>...</td>\n",
              "      <td>...</td>\n",
              "    </tr>\n",
              "    <tr>\n",
              "      <th>495</th>\n",
              "      <td>1.661781</td>\n",
              "      <td>-4.282538</td>\n",
              "      <td>-0.387623</td>\n",
              "      <td>-2.839261</td>\n",
              "      <td>2.663295</td>\n",
              "      <td>-0.882099</td>\n",
              "      <td>7.578279</td>\n",
              "    </tr>\n",
              "    <tr>\n",
              "      <th>496</th>\n",
              "      <td>-0.170246</td>\n",
              "      <td>1.313604</td>\n",
              "      <td>-0.932862</td>\n",
              "      <td>0.608757</td>\n",
              "      <td>5.589628</td>\n",
              "      <td>3.400144</td>\n",
              "      <td>6.201142</td>\n",
              "    </tr>\n",
              "    <tr>\n",
              "      <th>497</th>\n",
              "      <td>-13.257476</td>\n",
              "      <td>-1.891520</td>\n",
              "      <td>-3.122351</td>\n",
              "      <td>-2.621966</td>\n",
              "      <td>-6.114456</td>\n",
              "      <td>0.666729</td>\n",
              "      <td>-3.938359</td>\n",
              "    </tr>\n",
              "    <tr>\n",
              "      <th>498</th>\n",
              "      <td>-2.902046</td>\n",
              "      <td>-0.386939</td>\n",
              "      <td>-5.867328</td>\n",
              "      <td>-3.553492</td>\n",
              "      <td>0.741478</td>\n",
              "      <td>2.228890</td>\n",
              "      <td>-0.543059</td>\n",
              "    </tr>\n",
              "    <tr>\n",
              "      <th>499</th>\n",
              "      <td>0.392140</td>\n",
              "      <td>5.873602</td>\n",
              "      <td>-2.893190</td>\n",
              "      <td>6.227276</td>\n",
              "      <td>5.500428</td>\n",
              "      <td>9.142907</td>\n",
              "      <td>1.049087</td>\n",
              "    </tr>\n",
              "  </tbody>\n",
              "</table>\n",
              "<p>500 rows × 7 columns</p>\n",
              "</div>\n",
              "      <button class=\"colab-df-convert\" onclick=\"convertToInteractive('df-09ec2811-ff65-439f-a2fe-1a288c06ea8b')\"\n",
              "              title=\"Convert this dataframe to an interactive table.\"\n",
              "              style=\"display:none;\">\n",
              "        \n",
              "  <svg xmlns=\"http://www.w3.org/2000/svg\" height=\"24px\"viewBox=\"0 0 24 24\"\n",
              "       width=\"24px\">\n",
              "    <path d=\"M0 0h24v24H0V0z\" fill=\"none\"/>\n",
              "    <path d=\"M18.56 5.44l.94 2.06.94-2.06 2.06-.94-2.06-.94-.94-2.06-.94 2.06-2.06.94zm-11 1L8.5 8.5l.94-2.06 2.06-.94-2.06-.94L8.5 2.5l-.94 2.06-2.06.94zm10 10l.94 2.06.94-2.06 2.06-.94-2.06-.94-.94-2.06-.94 2.06-2.06.94z\"/><path d=\"M17.41 7.96l-1.37-1.37c-.4-.4-.92-.59-1.43-.59-.52 0-1.04.2-1.43.59L10.3 9.45l-7.72 7.72c-.78.78-.78 2.05 0 2.83L4 21.41c.39.39.9.59 1.41.59.51 0 1.02-.2 1.41-.59l7.78-7.78 2.81-2.81c.8-.78.8-2.07 0-2.86zM5.41 20L4 18.59l7.72-7.72 1.47 1.35L5.41 20z\"/>\n",
              "  </svg>\n",
              "      </button>\n",
              "      \n",
              "  <style>\n",
              "    .colab-df-container {\n",
              "      display:flex;\n",
              "      flex-wrap:wrap;\n",
              "      gap: 12px;\n",
              "    }\n",
              "\n",
              "    .colab-df-convert {\n",
              "      background-color: #E8F0FE;\n",
              "      border: none;\n",
              "      border-radius: 50%;\n",
              "      cursor: pointer;\n",
              "      display: none;\n",
              "      fill: #1967D2;\n",
              "      height: 32px;\n",
              "      padding: 0 0 0 0;\n",
              "      width: 32px;\n",
              "    }\n",
              "\n",
              "    .colab-df-convert:hover {\n",
              "      background-color: #E2EBFA;\n",
              "      box-shadow: 0px 1px 2px rgba(60, 64, 67, 0.3), 0px 1px 3px 1px rgba(60, 64, 67, 0.15);\n",
              "      fill: #174EA6;\n",
              "    }\n",
              "\n",
              "    [theme=dark] .colab-df-convert {\n",
              "      background-color: #3B4455;\n",
              "      fill: #D2E3FC;\n",
              "    }\n",
              "\n",
              "    [theme=dark] .colab-df-convert:hover {\n",
              "      background-color: #434B5C;\n",
              "      box-shadow: 0px 1px 3px 1px rgba(0, 0, 0, 0.15);\n",
              "      filter: drop-shadow(0px 1px 2px rgba(0, 0, 0, 0.3));\n",
              "      fill: #FFFFFF;\n",
              "    }\n",
              "  </style>\n",
              "\n",
              "      <script>\n",
              "        const buttonEl =\n",
              "          document.querySelector('#df-09ec2811-ff65-439f-a2fe-1a288c06ea8b button.colab-df-convert');\n",
              "        buttonEl.style.display =\n",
              "          google.colab.kernel.accessAllowed ? 'block' : 'none';\n",
              "\n",
              "        async function convertToInteractive(key) {\n",
              "          const element = document.querySelector('#df-09ec2811-ff65-439f-a2fe-1a288c06ea8b');\n",
              "          const dataTable =\n",
              "            await google.colab.kernel.invokeFunction('convertToInteractive',\n",
              "                                                     [key], {});\n",
              "          if (!dataTable) return;\n",
              "\n",
              "          const docLinkHtml = 'Like what you see? Visit the ' +\n",
              "            '<a target=\"_blank\" href=https://colab.research.google.com/notebooks/data_table.ipynb>data table notebook</a>'\n",
              "            + ' to learn more about interactive tables.';\n",
              "          element.innerHTML = '';\n",
              "          dataTable['output_type'] = 'display_data';\n",
              "          await google.colab.output.renderOutput(dataTable, element);\n",
              "          const docLink = document.createElement('div');\n",
              "          docLink.innerHTML = docLinkHtml;\n",
              "          element.appendChild(docLink);\n",
              "        }\n",
              "      </script>\n",
              "    </div>\n",
              "  </div>\n",
              "  "
            ]
          },
          "metadata": {},
          "execution_count": 221
        }
      ]
    },
    {
      "cell_type": "markdown",
      "source": [
        "# **제약을 안 주고 싶은 경우**"
      ],
      "metadata": {
        "id": "2VjFayWJDFe6"
      }
    },
    {
      "cell_type": "code",
      "source": [
        "'''\n",
        "input 설명(순서대로)\n",
        "X: data의 X\n",
        "y: data의 y\n",
        "schedule list: SA의 update 스케쥴을 의미, \n",
        "               단계와 단계별 업데이트 횟수로 [10, 20]이면 총 2단계 update로 1단계엔 10회, 2단계엔 20회 update를 진행함을 의미\n",
        "               성능이 너무 낮다면 단계 수와 단계별 update 수를 늘려주면 됨(ex: [30, 40, 50])\n",
        "               반대로 성능이 너무 높다면 줄여주면 됨(ex: [10])\n",
        "k_flip: 몇 개씩 뒤집어서 search할지를 정해주면 됨. unequal condition에서는 2의 배수일 필요 없음\n",
        "alpha, tau: 온도 낮추는 비율과 초기 온도인데... 그냥 alpha는 0.8~0.99 사이 값, tau는 1로 놓고 쓰면 됨\n",
        "Q: Q matrix\n",
        "Beta: Beta vector\n",
        "Lambda: lambda\n",
        "constraint: 제약을 안 줄거니까 전체 변수 개수(p)만큼 넣어주면 됨\n",
        "condition: 반드시 뽑아야 하는 변수의 정수 index list, defalut 존재(빈 리스트)\n",
        "'''\n",
        "\n",
        "simulatedannealing = SA(X, y, [30, 50, 100], 1, 0.9, 1, Q = Q, Beta = Beta, Lambda = ld, constraint = 10)\n",
        "sa_result3 = simulatedannealing.unequal()"
      ],
      "metadata": {
        "id": "o20XxN_G_C73"
      },
      "execution_count": 225,
      "outputs": []
    },
    {
      "cell_type": "code",
      "source": [
        "plt.plot(qb_lst)\n",
        "plt.plot([i for i in range(1024)], [qb(sa_result3, 10, Q, Beta, ld) for i in range(1024)], linestyle = 'dashed')"
      ],
      "metadata": {
        "colab": {
          "base_uri": "https://localhost:8080/",
          "height": 283
        },
        "outputId": "e229a85a-dd95-4aed-b158-b42aa9f7d56e",
        "id": "rwWarqRQ_C74"
      },
      "execution_count": 226,
      "outputs": [
        {
          "output_type": "execute_result",
          "data": {
            "text/plain": [
              "[<matplotlib.lines.Line2D at 0x7fe655136dd0>]"
            ]
          },
          "metadata": {},
          "execution_count": 226
        },
        {
          "output_type": "display_data",
          "data": {
            "text/plain": [
              "<Figure size 432x288 with 1 Axes>"
            ],
            "image/png": "[encoded data removed]"
          },
          "metadata": {
            "needs_background": "light"
          }
        }
      ]
    },
    {
      "cell_type": "code",
      "source": [
        "sa_result3  # constraint 없음, 꼭 뽑아야 하는 변수도 없음."
      ],
      "metadata": {
        "colab": {
          "base_uri": "https://localhost:8080/",
          "height": 424
        },
        "outputId": "972787d7-7a4d-429b-a2da-5a4928da3369",
        "id": "xYLOyaeP_C75"
      },
      "execution_count": 227,
      "outputs": [
        {
          "output_type": "execute_result",
          "data": {
            "text/plain": [
              "             0         1         3         4         5         6         8\n",
              "0    -7.829785  3.185001 -3.195305  2.240202 -2.085298  2.740441 -2.448392\n",
              "1    10.976963 -2.391829 -1.242987 -1.510718  6.095843  0.431581  2.833347\n",
              "2     0.672092 -4.793522 -4.741333 -5.123452  3.345613  0.313443  6.092855\n",
              "3    -7.165594 -1.704284 -5.302297 -4.658252 -6.425925 -1.133545 -3.414541\n",
              "4     1.886018 -5.702456 -3.359002 -3.806169 -0.304151 -1.097234  5.418232\n",
              "..         ...       ...       ...       ...       ...       ...       ...\n",
              "495   1.661781 -4.282538 -0.387623 -2.839261  2.663295 -0.882099  7.578279\n",
              "496  -0.170246  1.313604 -0.932862  0.608757  5.589628  3.400144  6.201142\n",
              "497 -13.257476 -1.891520 -3.122351 -2.621966 -6.114456  0.666729 -3.938359\n",
              "498  -2.902046 -0.386939 -5.867328 -3.553492  0.741478  2.228890 -0.543059\n",
              "499   0.392140  5.873602 -2.893190  6.227276  5.500428  9.142907  1.049087\n",
              "\n",
              "[500 rows x 7 columns]"
            ],
            "text/html": [
              "\n",
              "  <div id=\"df-a261be9a-a5da-4d2b-97e4-68dbea0ae185\">\n",
              "    <div class=\"colab-df-container\">\n",
              "      <div>\n",
              "<style scoped>\n",
              "    .dataframe tbody tr th:only-of-type {\n",
              "        vertical-align: middle;\n",
              "    }\n",
              "\n",
              "    .dataframe tbody tr th {\n",
              "        vertical-align: top;\n",
              "    }\n",
              "\n",
              "    .dataframe thead th {\n",
              "        text-align: right;\n",
              "    }\n",
              "</style>\n",
              "<table border=\"1\" class=\"dataframe\">\n",
              "  <thead>\n",
              "    <tr style=\"text-align: right;\">\n",
              "      <th></th>\n",
              "      <th>0</th>\n",
              "      <th>1</th>\n",
              "      <th>3</th>\n",
              "      <th>4</th>\n",
              "      <th>5</th>\n",
              "      <th>6</th>\n",
              "      <th>8</th>\n",
              "    </tr>\n",
              "  </thead>\n",
              "  <tbody>\n",
              "    <tr>\n",
              "      <th>0</th>\n",
              "      <td>-7.829785</td>\n",
              "      <td>3.185001</td>\n",
              "      <td>-3.195305</td>\n",
              "      <td>2.240202</td>\n",
              "      <td>-2.085298</td>\n",
              "      <td>2.740441</td>\n",
              "      <td>-2.448392</td>\n",
              "    </tr>\n",
              "    <tr>\n",
              "      <th>1</th>\n",
              "      <td>10.976963</td>\n",
              "      <td>-2.391829</td>\n",
              "      <td>-1.242987</td>\n",
              "      <td>-1.510718</td>\n",
              "      <td>6.095843</td>\n",
              "      <td>0.431581</td>\n",
              "      <td>2.833347</td>\n",
              "    </tr>\n",
              "    <tr>\n",
              "      <th>2</th>\n",
              "      <td>0.672092</td>\n",
              "      <td>-4.793522</td>\n",
              "      <td>-4.741333</td>\n",
              "      <td>-5.123452</td>\n",
              "      <td>3.345613</td>\n",
              "      <td>0.313443</td>\n",
              "      <td>6.092855</td>\n",
              "    </tr>\n",
              "    <tr>\n",
              "      <th>3</th>\n",
              "      <td>-7.165594</td>\n",
              "      <td>-1.704284</td>\n",
              "      <td>-5.302297</td>\n",
              "      <td>-4.658252</td>\n",
              "      <td>-6.425925</td>\n",
              "      <td>-1.133545</td>\n",
              "      <td>-3.414541</td>\n",
              "    </tr>\n",
              "    <tr>\n",
              "      <th>4</th>\n",
              "      <td>1.886018</td>\n",
              "      <td>-5.702456</td>\n",
              "      <td>-3.359002</td>\n",
              "      <td>-3.806169</td>\n",
              "      <td>-0.304151</td>\n",
              "      <td>-1.097234</td>\n",
              "      <td>5.418232</td>\n",
              "    </tr>\n",
              "    <tr>\n",
              "      <th>...</th>\n",
              "      <td>...</td>\n",
              "      <td>...</td>\n",
              "      <td>...</td>\n",
              "      <td>...</td>\n",
              "      <td>...</td>\n",
              "      <td>...</td>\n",
              "      <td>...</td>\n",
              "    </tr>\n",
              "    <tr>\n",
              "      <th>495</th>\n",
              "      <td>1.661781</td>\n",
              "      <td>-4.282538</td>\n",
              "      <td>-0.387623</td>\n",
              "      <td>-2.839261</td>\n",
              "      <td>2.663295</td>\n",
              "      <td>-0.882099</td>\n",
              "      <td>7.578279</td>\n",
              "    </tr>\n",
              "    <tr>\n",
              "      <th>496</th>\n",
              "      <td>-0.170246</td>\n",
              "      <td>1.313604</td>\n",
              "      <td>-0.932862</td>\n",
              "      <td>0.608757</td>\n",
              "      <td>5.589628</td>\n",
              "      <td>3.400144</td>\n",
              "      <td>6.201142</td>\n",
              "    </tr>\n",
              "    <tr>\n",
              "      <th>497</th>\n",
              "      <td>-13.257476</td>\n",
              "      <td>-1.891520</td>\n",
              "      <td>-3.122351</td>\n",
              "      <td>-2.621966</td>\n",
              "      <td>-6.114456</td>\n",
              "      <td>0.666729</td>\n",
              "      <td>-3.938359</td>\n",
              "    </tr>\n",
              "    <tr>\n",
              "      <th>498</th>\n",
              "      <td>-2.902046</td>\n",
              "      <td>-0.386939</td>\n",
              "      <td>-5.867328</td>\n",
              "      <td>-3.553492</td>\n",
              "      <td>0.741478</td>\n",
              "      <td>2.228890</td>\n",
              "      <td>-0.543059</td>\n",
              "    </tr>\n",
              "    <tr>\n",
              "      <th>499</th>\n",
              "      <td>0.392140</td>\n",
              "      <td>5.873602</td>\n",
              "      <td>-2.893190</td>\n",
              "      <td>6.227276</td>\n",
              "      <td>5.500428</td>\n",
              "      <td>9.142907</td>\n",
              "      <td>1.049087</td>\n",
              "    </tr>\n",
              "  </tbody>\n",
              "</table>\n",
              "<p>500 rows × 7 columns</p>\n",
              "</div>\n",
              "      <button class=\"colab-df-convert\" onclick=\"convertToInteractive('df-a261be9a-a5da-4d2b-97e4-68dbea0ae185')\"\n",
              "              title=\"Convert this dataframe to an interactive table.\"\n",
              "              style=\"display:none;\">\n",
              "        \n",
              "  <svg xmlns=\"http://www.w3.org/2000/svg\" height=\"24px\"viewBox=\"0 0 24 24\"\n",
              "       width=\"24px\">\n",
              "    <path d=\"M0 0h24v24H0V0z\" fill=\"none\"/>\n",
              "    <path d=\"M18.56 5.44l.94 2.06.94-2.06 2.06-.94-2.06-.94-.94-2.06-.94 2.06-2.06.94zm-11 1L8.5 8.5l.94-2.06 2.06-.94-2.06-.94L8.5 2.5l-.94 2.06-2.06.94zm10 10l.94 2.06.94-2.06 2.06-.94-2.06-.94-.94-2.06-.94 2.06-2.06.94z\"/><path d=\"M17.41 7.96l-1.37-1.37c-.4-.4-.92-.59-1.43-.59-.52 0-1.04.2-1.43.59L10.3 9.45l-7.72 7.72c-.78.78-.78 2.05 0 2.83L4 21.41c.39.39.9.59 1.41.59.51 0 1.02-.2 1.41-.59l7.78-7.78 2.81-2.81c.8-.78.8-2.07 0-2.86zM5.41 20L4 18.59l7.72-7.72 1.47 1.35L5.41 20z\"/>\n",
              "  </svg>\n",
              "      </button>\n",
              "      \n",
              "  <style>\n",
              "    .colab-df-container {\n",
              "      display:flex;\n",
              "      flex-wrap:wrap;\n",
              "      gap: 12px;\n",
              "    }\n",
              "\n",
              "    .colab-df-convert {\n",
              "      background-color: #E8F0FE;\n",
              "      border: none;\n",
              "      border-radius: 50%;\n",
              "      cursor: pointer;\n",
              "      display: none;\n",
              "      fill: #1967D2;\n",
              "      height: 32px;\n",
              "      padding: 0 0 0 0;\n",
              "      width: 32px;\n",
              "    }\n",
              "\n",
              "    .colab-df-convert:hover {\n",
              "      background-color: #E2EBFA;\n",
              "      box-shadow: 0px 1px 2px rgba(60, 64, 67, 0.3), 0px 1px 3px 1px rgba(60, 64, 67, 0.15);\n",
              "      fill: #174EA6;\n",
              "    }\n",
              "\n",
              "    [theme=dark] .colab-df-convert {\n",
              "      background-color: #3B4455;\n",
              "      fill: #D2E3FC;\n",
              "    }\n",
              "\n",
              "    [theme=dark] .colab-df-convert:hover {\n",
              "      background-color: #434B5C;\n",
              "      box-shadow: 0px 1px 3px 1px rgba(0, 0, 0, 0.15);\n",
              "      filter: drop-shadow(0px 1px 2px rgba(0, 0, 0, 0.3));\n",
              "      fill: #FFFFFF;\n",
              "    }\n",
              "  </style>\n",
              "\n",
              "      <script>\n",
              "        const buttonEl =\n",
              "          document.querySelector('#df-a261be9a-a5da-4d2b-97e4-68dbea0ae185 button.colab-df-convert');\n",
              "        buttonEl.style.display =\n",
              "          google.colab.kernel.accessAllowed ? 'block' : 'none';\n",
              "\n",
              "        async function convertToInteractive(key) {\n",
              "          const element = document.querySelector('#df-a261be9a-a5da-4d2b-97e4-68dbea0ae185');\n",
              "          const dataTable =\n",
              "            await google.colab.kernel.invokeFunction('convertToInteractive',\n",
              "                                                     [key], {});\n",
              "          if (!dataTable) return;\n",
              "\n",
              "          const docLinkHtml = 'Like what you see? Visit the ' +\n",
              "            '<a target=\"_blank\" href=https://colab.research.google.com/notebooks/data_table.ipynb>data table notebook</a>'\n",
              "            + ' to learn more about interactive tables.';\n",
              "          element.innerHTML = '';\n",
              "          dataTable['output_type'] = 'display_data';\n",
              "          await google.colab.output.renderOutput(dataTable, element);\n",
              "          const docLink = document.createElement('div');\n",
              "          docLink.innerHTML = docLinkHtml;\n",
              "          element.appendChild(docLink);\n",
              "        }\n",
              "      </script>\n",
              "    </div>\n",
              "  </div>\n",
              "  "
            ]
          },
          "metadata": {},
          "execution_count": 227
        }
      ]
    }
  ]
}