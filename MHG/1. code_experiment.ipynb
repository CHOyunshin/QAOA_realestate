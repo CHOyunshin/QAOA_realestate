{
 "cells": [
  {
   "cell_type": "code",
   "execution_count": 5,
   "metadata": {},
   "outputs": [],
   "source": [
<<<<<<< Updated upstream
    "import os\n",
    "path = \"/Users/minhyeong-gyu/Documents/GitHub/QAOA_realestate\"\n",
    "os.chdir(path)"
   ]
  },
  {
   "cell_type": "code",
   "execution_count": 7,
=======
    "import os,sys\n",
    "### 본인의  QAOA_realestate가 있는곳 경로\n",
    "dir_path = \"/Users/minhyeong-gyu/Documents/GitHub/QAOA_realestate\"\n",
    "os.chdir(dir_path)\n",
    "module_path = dir_path+\"/Python\"\n",
    "if module_path not in sys.path:\n",
    "    sys.path.append(module_path)\n",
    "\n",
    "from optimizer import optimizer as opt\n",
    "from optimizer import basefunctions as bf\n",
    "\n",
    "import numpy as np\n",
    "from dwave.system import LeapHybridCQMSampler"
   ]
  },
  {
   "cell_type": "code",
   "execution_count": 2,
   "metadata": {},
   "outputs": [],
   "source": [
    "Q = np.array([[1,2,3],\n",
    "              [4,5,6],\n",
    "              [7,8,9]])\n",
    "beta = np.array([-3,-2,-1])\n",
    "lamda = 0.5"
   ]
  },
  {
   "cell_type": "markdown",
   "metadata": {},
   "source": [
    "### DWAVE 함수 설정"
   ]
  },
  {
   "cell_type": "code",
   "execution_count": 3,
   "metadata": {},
   "outputs": [],
   "source": [
    "my_api_token = \"DEV-8be99a69b1c9b92319d76a12d5c8b4fde79963b4\"\n",
    "sampler = LeapHybridCQMSampler(token =  my_api_token)"
   ]
  },
  {
   "cell_type": "markdown",
>>>>>>> Stashed changes
   "metadata": {},
   "source": [
<<<<<<< Updated upstream
    "import sys\n",
    "\n",
    "module_path = \"/Users/minhyeong-gyu/Documents/GitHub/QAOA_realestate/Python\"\n",
    "if module_path not in sys.path:\n",
    "    sys.path.append(module_path)\n"
   ]
  },
  {
   "cell_type": "code",
   "execution_count": null,
   "metadata": {},
   "outputs": [],
   "source": []
=======
    "### 최적화 함수 설정 및 최적화"
   ]
  },
  {
   "cell_type": "code",
   "execution_count": 4,
   "metadata": {},
   "outputs": [],
   "source": [
    "opt_dwave = opt.DWAVE_optimizer(sampler)\n",
    "opt_sa = opt.SimulatedAnnealing()\n",
    "opt_dwave.optimize(Q,beta,lamda,k=2)\n",
    "opt_sa.optimize(Q,beta,lamda,k=2)"
   ]
  },
  {
   "cell_type": "markdown",
   "metadata": {},
   "source": [
    "optimizer.DWAVE_optimizer(sampler)\n",
    "- sampler : DWAVE 디바이스의 기기 설정\n",
    "\n",
    "optimizer.SimulartedAnnealing(schedule_list = [100, 100, 100, 200, 200, 200, 200, 300, 300, 300, 300, 300, 400, 400, 400, 400, 400, 400],  \n",
    "$\\qquad \\qquad \\qquad \\qquad \\qquad \\qquad $ k_flip=2,  \n",
    "$\\qquad \\qquad \\qquad \\qquad \\qquad \\qquad $ alpha=0.9,  \n",
    "$\\qquad \\qquad \\qquad \\qquad \\qquad \\qquad $ tau=1) \n",
    "- schedule_list : SA의 이터레이션 스케줄\n",
    "- k_flip : proposal시 뒤집을 개수. 낮을수록 좁게 찾음\n",
    "- alpha = 매 스테이지 마다의 아이싱 비율. 낮을수록 좁게 찾음\n",
    "- tau = 초기 아이싱 값. 낮을 수록 좁게 찾음\n",
    "\n",
    "optimizer.DWAVE_optimizer.optimize(Q,  \n",
    "$\\qquad \\qquad \\qquad \\qquad \\qquad \\qquad \\qquad$ beta,  \n",
    "$\\qquad \\qquad \\qquad \\qquad \\qquad \\qquad \\qquad$ lamda=0.5,  \n",
    "$\\qquad \\qquad \\qquad \\qquad \\qquad \\qquad \\qquad$ k = None,  \n",
    "$\\qquad \\qquad \\qquad \\qquad \\qquad \\qquad \\qquad$ A = None,  \n",
    "$\\qquad \\qquad \\qquad \\qquad \\qquad \\qquad \\qquad$ b = None)  \n",
    "\n",
    "optimizer.SimulatedAnnealing.optimize(Q,  \n",
    "$\\qquad \\qquad \\qquad \\qquad \\qquad \\qquad \\qquad \\quad $ beta,  \n",
    "$\\qquad \\qquad \\qquad \\qquad \\qquad \\qquad \\qquad \\quad $ lamda=0.5,  \n",
    "$\\qquad \\qquad \\qquad \\qquad \\qquad \\qquad \\qquad \\quad $ k = None,  \n",
    "$\\qquad \\qquad \\qquad \\qquad \\qquad \\qquad \\qquad \\quad $ A = None,  \n",
    "$\\qquad \\qquad \\qquad \\qquad \\qquad \\qquad \\qquad \\quad $ b = None)  \n",
    "\n",
    "아래의 목적함수 식을 구현\n",
    "\n",
    "$$\n",
    "\\begin{align*}\n",
    "\\min & \\ x^t Q x + \\beta^t x \\\\\n",
    "s.t. \\  & 1^tx = k \\\\\n",
    "& Ax < b\n",
    "\\end{align*}\n",
    "$$\n",
    "\n"
   ]
  },
  {
   "cell_type": "markdown",
   "metadata": {},
   "source": [
    "### 최적 조합"
   ]
  },
  {
   "cell_type": "code",
   "execution_count": 5,
   "metadata": {},
   "outputs": [
    {
     "data": {
      "text/plain": [
       "[1.0, 1.0, 0.0]"
      ]
     },
     "execution_count": 5,
     "metadata": {},
     "output_type": "execute_result"
    }
   ],
   "source": [
    "opt_dwave.result"
   ]
  },
  {
   "cell_type": "code",
   "execution_count": 6,
   "metadata": {},
   "outputs": [],
   "source": [
    "opt_sa.optimize(Q,beta,lamda,k=2)"
   ]
  },
  {
   "cell_type": "code",
   "execution_count": 7,
   "metadata": {},
   "outputs": [
    {
     "data": {
      "text/plain": [
       "[1.0, 1.0, 0.0]"
      ]
     },
     "execution_count": 7,
     "metadata": {},
     "output_type": "execute_result"
    }
   ],
   "source": [
    "opt_sa.result"
   ]
  },
  {
   "cell_type": "markdown",
   "metadata": {},
   "source": [
    "### 최적값"
   ]
  },
  {
   "cell_type": "code",
   "execution_count": 8,
   "metadata": {},
   "outputs": [
    {
     "data": {
      "text/plain": [
       "3.5"
      ]
     },
     "execution_count": 8,
     "metadata": {},
     "output_type": "execute_result"
    }
   ],
   "source": [
    "bf.get_QB(opt_dwave.result,Q,beta,lamda)"
   ]
  },
  {
   "cell_type": "code",
   "execution_count": 9,
   "metadata": {},
   "outputs": [
    {
     "data": {
      "text/plain": [
       "3.5"
      ]
     },
     "execution_count": 9,
     "metadata": {},
     "output_type": "execute_result"
    }
   ],
   "source": [
    "bf.get_QB(opt_sa.result,Q,beta,lamda)"
   ]
>>>>>>> Stashed changes
  },
  {
   "cell_type": "code",
   "execution_count": null,
   "metadata": {},
   "outputs": [],
   "source": []
  }
 ],
 "metadata": {
  "kernelspec": {
   "display_name": "Python 3.9.13 ('base')",
   "language": "python",
   "name": "python3"
  },
  "language_info": {
   "codemirror_mode": {
    "name": "ipython",
    "version": 3
   },
   "file_extension": ".py",
   "mimetype": "text/x-python",
   "name": "python",
   "nbconvert_exporter": "python",
   "pygments_lexer": "ipython3",
   "version": "3.9.13"
  },
  "orig_nbformat": 4,
  "vscode": {
   "interpreter": {
    "hash": "84fb82bab20c569585c4af9397c7309d3c8bcf8e92190772bb316fae4802aa46"
   }
  }
 },
 "nbformat": 4,
 "nbformat_minor": 2
}
