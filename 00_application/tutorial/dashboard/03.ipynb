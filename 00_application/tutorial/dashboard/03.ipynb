{
 "cells": [
  {
   "cell_type": "code",
   "execution_count": null,
   "metadata": {},
   "outputs": [
    {
     "ename": "",
     "evalue": "",
     "output_type": "error",
     "traceback": [
      "\u001b[1;31m'Python ('PYGUI')'(으)로 셀을 실행하려면 ipykernel 패키지가 필요합니다.\n",
      "\u001b[1;31m다음 명령어를 실행하여 Python 환경에 'ipykernel'을(를) 설치합니다. \n",
      "\u001b[1;31m 명령: 'conda install -n PYGUI ipykernel --update-deps --force-reinstall'"
     ]
    }
   ],
   "source": [
    "from dash import Dash, dcc, html\n",
    "import dash_bootstrap_components as dbc\n",
    "import plotly.express as px\n",
    "\n",
    "# Iris bar figure\n",
    "def drawFigure():\n",
    "    return  html.Div([\n",
    "        dbc.Card(\n",
    "            dbc.CardBody([\n",
    "                dcc.Graph(\n",
    "                    figure=px.bar(\n",
    "                        df, x=\"sepal_width\", y=\"sepal_length\", color=\"species\"\n",
    "                    ).update_layout(\n",
    "                        template='plotly_dark',\n",
    "                        plot_bgcolor= 'rgba(0, 0, 0, 0)',\n",
    "                        paper_bgcolor= 'rgba(0, 0, 0, 0)',\n",
    "                    ),\n",
    "                    config={\n",
    "                        'displayModeBar': False\n",
    "                    }\n",
    "                ) \n",
    "            ])\n",
    "        ),  \n",
    "    ])\n",
    "\n",
    "# Text field\n",
    "def drawText():\n",
    "    return html.Div([\n",
    "        dbc.Card(\n",
    "            dbc.CardBody([\n",
    "                html.Div([\n",
    "                    html.H2(\"Text\"),\n",
    "                ], style={'textAlign': 'center'}) \n",
    "            ])\n",
    "        ),\n",
    "    ])\n",
    "\n",
    "# Data\n",
    "df = px.data.iris()\n",
    "\n",
    "# Build App\n",
    "app = Dash(external_stylesheets=[dbc.themes.SLATE])\n",
    "\n",
    "app.layout = html.Div([\n",
    "    dbc.Card(\n",
    "        dbc.CardBody([\n",
    "            dbc.Row([\n",
    "                dbc.Col([\n",
    "                    drawText()\n",
    "                ], width=3),\n",
    "                dbc.Col([\n",
    "                    drawText()\n",
    "                ], width=3),\n",
    "                dbc.Col([\n",
    "                    drawText()\n",
    "                ], width=3),\n",
    "                dbc.Col([\n",
    "                    drawText()\n",
    "                ], width=3),\n",
    "            ], align='center'), \n",
    "            html.Br(),\n",
    "            dbc.Row([\n",
    "                dbc.Col([\n",
    "                    drawFigure() \n",
    "                ], width=3),\n",
    "                dbc.Col([\n",
    "                    drawFigure()\n",
    "                ], width=3),\n",
    "                dbc.Col([\n",
    "                    drawFigure() \n",
    "                ], width=6),\n",
    "            ], align='center'), \n",
    "            html.Br(),\n",
    "            dbc.Row([\n",
    "                dbc.Col([\n",
    "                    drawFigure()\n",
    "                ], width=9),\n",
    "                dbc.Col([\n",
    "                    drawFigure()\n",
    "                ], width=3),\n",
    "            ], align='center'),      \n",
    "        ]), color = 'dark'\n",
    "    )\n",
    "])\n",
    "\n",
    "# Run app and display result inline in the notebook\n",
    "app.run_server()"
   ]
  }
 ],
 "metadata": {
  "kernelspec": {
   "display_name": "Python ('PYGUI')",
   "language": "python",
   "name": "python3"
  },
  "language_info": {
   "codemirror_mode": {
    "name": "ipython",
    "version": 3
   },
   "file_extension": ".py",
   "mimetype": "text/x-python",
   "name": "python",
   "nbconvert_exporter": "python",
   "pygments_lexer": "ipython3",
   "version": ""
  },
  "orig_nbformat": 4,
  "vscode": {
   "interpreter": {
    "hash": "25a19fbe0a9132dfb9279d48d161753c6352f8f9478c2e74383d340069b907c3"
   }
  }
 },
 "nbformat": 4,
 "nbformat_minor": 2
}
